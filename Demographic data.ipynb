{
 "cells": [
  {
   "cell_type": "code",
   "execution_count": null,
   "id": "394b003c",
   "metadata": {},
   "outputs": [],
   "source": [
    "import numpy as np\n",
    "import pandas as pd\n",
    "import matplotlib.pyplot as plt\n",
    "import pprint\n",
    "import os\n",
    "from sklearn.decomposition import PCA\n",
    "from sklearn.mixture import GaussianMixture\n",
    "from sklearn import metrics\n",
    "\n",
    "pd.set_option('display.max_colwidth',100000) #https://stackoverflow.com/questions/54692405/output-truncation-in-google-colab\n",
    "pd.set_option('display.max_rows', 100000)\n",
    "\n",
    "# Below imports are used to print out pretty pandas dataframes\n",
    "from IPython.display import display, HTML"
   ]
  },
  {
   "cell_type": "code",
   "execution_count": null,
   "id": "8970c6b1",
   "metadata": {},
   "outputs": [],
   "source": [
    "base_table = pd.read_pickle('Downloads/base_table.pkl')\n",
    "stay_id = pd.read_csv('Downloads/stay_id.csv')\n",
    "final_adult_patients = pd.read_csv('Downloads/final_adult_patients.csv')\n",
    "height = pd.read_csv('Downloads/height.csv')\n",
    "weight = pd.read_csv('Downloads/weight.csv')\n",
    "comorb = pd.read_csv('Downloads/comorb.csv')\n",
    "icu_detail = pd.read_csv('Downloads/icu_detail.csv')"
   ]
  },
  {
   "cell_type": "code",
   "execution_count": null,
   "id": "7aa0ee3e",
   "metadata": {},
   "outputs": [],
   "source": [
    "from datetime import datetime\n",
    "def convert_time(x):\n",
    "  date_time_str = x\n",
    "  if date_time_str[-1] == ':':\n",
    "    date_time_str += '00'\n",
    "  date_time_obj = datetime.strptime(date_time_str, '%Y-%m-%d %H:%M:%S')\n",
    "  return date_time_obj"
   ]
  },
  {
   "cell_type": "code",
   "execution_count": null,
   "id": "5236b7f3",
   "metadata": {},
   "outputs": [],
   "source": [
    "base_table.columns.values"
   ]
  },
  {
   "cell_type": "code",
   "execution_count": null,
   "id": "dd12dfb1",
   "metadata": {},
   "outputs": [],
   "source": [
    "stay_id = stay_id.drop(['Unnamed: 0'], axis=1)"
   ]
  },
  {
   "cell_type": "code",
   "execution_count": null,
   "id": "498d696d",
   "metadata": {},
   "outputs": [],
   "source": [
    "stay_id.intime = stay_id.intime.apply(convert_time)\n",
    "stay_id.outtime = stay_id.outtime.apply(convert_time)\n",
    "base_table.charttime_pO2 = base_table.charttime_pO2.apply(convert_time)"
   ]
  },
  {
   "cell_type": "code",
   "execution_count": null,
   "id": "2d49efc3",
   "metadata": {},
   "outputs": [],
   "source": [
    "print(type(base_table['charttime_pO2'].iloc[0]))"
   ]
  },
  {
   "cell_type": "code",
   "execution_count": null,
   "id": "b2c26676",
   "metadata": {},
   "outputs": [],
   "source": [
    "basic_table = base_table.merge(stay_id, how='inner', on='hadm_id')\n",
    "print(len(basic_table))"
   ]
  },
  {
   "cell_type": "code",
   "execution_count": null,
   "id": "9bd63a92",
   "metadata": {},
   "outputs": [],
   "source": [
    "\n",
    "basic_table['time_diff'] = basic_table.charttime_pO2 - basic_table.outtime\n",
    "basic_table['time_diff'] = basic_table['time_diff'].abs()\n",
    "\n",
    "basic_table['time_diff'] = basic_table['time_diff'] / pd.Timedelta(minutes=1)\n",
    "basic_table['min_time_diff'] = basic_table.groupby('dicom')['time_diff'].transform('min')\n",
    "\n",
    "basic_table = basic_table.where(basic_table['time_diff'] == basic_table['min_time_diff'])"
   ]
  },
  {
   "cell_type": "code",
   "execution_count": null,
   "id": "56d21584",
   "metadata": {},
   "outputs": [],
   "source": [
    "basic_table = basic_table.dropna()"
   ]
  },
  {
   "cell_type": "code",
   "execution_count": null,
   "id": "4572c22c",
   "metadata": {},
   "outputs": [],
   "source": [
    "# basic_table = basic_table.where(basic_table['intime'] < basic_table['charttime_pO2'])\n",
    "# basic_table = basic_table.dropna()\n",
    "# basic_table = basic_table.reset_index()"
   ]
  },
  {
   "cell_type": "code",
   "execution_count": null,
   "id": "387d54a0",
   "metadata": {},
   "outputs": [],
   "source": [
    "print(len(basic_table))"
   ]
  },
  {
   "cell_type": "code",
   "execution_count": null,
   "id": "2edb1420",
   "metadata": {},
   "outputs": [],
   "source": [
    "basic_table.head(100)"
   ]
  },
  {
   "cell_type": "code",
   "execution_count": null,
   "id": "7e1b472e",
   "metadata": {},
   "outputs": [],
   "source": [
    "basic_table = basic_table.drop(['intime','outtime','time_diff', 'min_time_diff', 'subject_id' ], axis=1)\n",
    "basic_table = basic_table.reindex(columns=['subject_id_x', 'hadm_id','stay_id', 'dicom', 'PF_ratio','charttime_pO2', 'pO2_time', 'pO2_date', 'Xray_date',\n",
    "                         'Xray_time', 'admittime', 'label', 'tsne_features_xs', 'tsne_features_ys', 'tsne_features', 'los'])"
   ]
  },
  {
   "cell_type": "code",
   "execution_count": null,
   "id": "06510486",
   "metadata": {},
   "outputs": [],
   "source": [
    "# basic_table.to_pickle('Downloads/basic_table.pkl')"
   ]
  },
  {
   "cell_type": "code",
   "execution_count": null,
   "id": "1f264efc",
   "metadata": {},
   "outputs": [],
   "source": [
    "basic_table = basic_table.drop(['los'], axis=1)\n",
    "basic_table = basic_table.rename(columns={'subject_id_x':'subject_id'})\n",
    "basic_table.head(5)"
   ]
  },
  {
   "cell_type": "code",
   "execution_count": null,
   "id": "32065dda",
   "metadata": {},
   "outputs": [],
   "source": [
    "bmi = pd.read_csv('Downloads/bmi.csv')\n",
    "gender_ethnicity = pd.read_csv('Downloads/gender_ethnicity.csv')"
   ]
  },
  {
   "cell_type": "code",
   "execution_count": null,
   "id": "284d670f",
   "metadata": {},
   "outputs": [],
   "source": [
    "gender_ethnicity.columns.values\n",
    "gender_ethnicity =gender_ethnicity.drop(['Unnamed: 0'], axis=1)"
   ]
  },
  {
   "cell_type": "code",
   "execution_count": null,
   "id": "c24b5458",
   "metadata": {},
   "outputs": [],
   "source": [
    "G_E = basic_table.merge(gender_ethnicity, how='inner', on='subject_id')\n",
    "G_E.head(100\n",
    "        )"
   ]
  },
  {
   "cell_type": "code",
   "execution_count": null,
   "id": "291e8899",
   "metadata": {},
   "outputs": [],
   "source": [
    "G_E = G_E.drop_duplicates(subset='dicom', ignore_index=True)\n",
    "print(len(G_E))"
   ]
  },
  {
   "cell_type": "code",
   "execution_count": null,
   "id": "b0c10816",
   "metadata": {},
   "outputs": [],
   "source": [
    "print(type(bmi['chartdate'].iloc[0]))\n",
    "bmi =bmi.drop(['Unnamed: 0'], axis=1)\n",
    "bmi = bmi.rename(columns={'result_value':'bmi'})\n",
    "bmi.head(5\n",
    "        )"
   ]
  },
  {
   "cell_type": "code",
   "execution_count": null,
   "id": "56ffcaba",
   "metadata": {},
   "outputs": [],
   "source": [
    "bmi['chartdate'] = bmi['chartdate'].str.replace('-','')\n",
    "bmi['chartdate'] = bmi['chartdate'].astype(int)"
   ]
  },
  {
   "cell_type": "code",
   "execution_count": null,
   "id": "11b66743",
   "metadata": {},
   "outputs": [],
   "source": [
    "bmi_date = pd.DataFrame({'subject_id':G_E['subject_id'], 'pO2_date': G_E['pO2_date']})\n",
    "print(type(bmi_date['pO2_date'].iloc[0]))"
   ]
  },
  {
   "cell_type": "code",
   "execution_count": null,
   "id": "a7ee5264",
   "metadata": {},
   "outputs": [],
   "source": [
    "bmi_date = bmi_date.merge(bmi, how='inner', on='subject_id')\n",
    "print(len(bmi_date))"
   ]
  },
  {
   "cell_type": "code",
   "execution_count": null,
   "id": "02f7fb86",
   "metadata": {},
   "outputs": [],
   "source": [
    "bmi_date['time_diff'] = bmi_date['pO2_date'] - bmi_date['chartdate']\n",
    "bmi_date['time_diff'] = bmi_date['time_diff'].abs()\n",
    "\n",
    "bmi_date['min_time_diff'] = bmi_date.groupby('subject_id')['time_diff'].transform('min')\n",
    "\n",
    "bmi_date = bmi_date.where(bmi_date['time_diff'] == bmi_date['min_time_diff'])\n",
    "bmi_date = bmi_date[bmi_date['subject_id'].notna()]\n",
    "bmi_date= bmi_date.drop_duplicates(subset='subject_id', ignore_index=True)"
   ]
  },
  {
   "cell_type": "code",
   "execution_count": null,
   "id": "aa6db3ef",
   "metadata": {},
   "outputs": [],
   "source": [
    "bmi_date =bmi_date.drop(['pO2_date', 'chartdate', 'time_diff','min_time_diff'], axis=1)\n",
    "bmi_date.head(5)"
   ]
  },
  {
   "cell_type": "code",
   "execution_count": null,
   "id": "abb19bc0",
   "metadata": {},
   "outputs": [],
   "source": [
    "demographics = G_E.merge(bmi_date, how='inner', on='subject_id')\n",
    "demographics.head(50)"
   ]
  },
  {
   "cell_type": "code",
   "execution_count": null,
   "id": "c021d76f",
   "metadata": {},
   "outputs": [],
   "source": [
    "print(demographics['subject_id'].nunique())"
   ]
  },
  {
   "cell_type": "code",
   "execution_count": null,
   "id": "d0173a66",
   "metadata": {},
   "outputs": [],
   "source": [
    "final_adult_patients.columns.values"
   ]
  },
  {
   "cell_type": "code",
   "execution_count": null,
   "id": "d9c633cf",
   "metadata": {},
   "outputs": [],
   "source": [
    "age = pd.DataFrame({'hadm_id': final_adult_patients['hadm_id_y'], 'age':final_adult_patients['age']})\n",
    "gea= G_E.merge(age, how='inner', on='hadm_id')\n",
    "print(len(gea))"
   ]
  },
  {
   "cell_type": "code",
   "execution_count": null,
   "id": "b3e66224",
   "metadata": {},
   "outputs": [],
   "source": [
    "gea = gea.drop_duplicates(subset='dicom', keep='last')\n",
    "print(len(gea))"
   ]
  },
  {
   "cell_type": "code",
   "execution_count": null,
   "id": "3d735425",
   "metadata": {},
   "outputs": [],
   "source": [
    "height =height.drop(['Unnamed: 0'], axis=1)\n",
    "weight =weight.drop(['Unnamed: 0'], axis=1)\n",
    "\n",
    "weight.columns.values"
   ]
  },
  {
   "cell_type": "code",
   "execution_count": null,
   "id": "fc832df4",
   "metadata": {},
   "outputs": [],
   "source": [
    "height.columns.values"
   ]
  },
  {
   "cell_type": "code",
   "execution_count": null,
   "id": "3eef7483",
   "metadata": {},
   "outputs": [],
   "source": [
    "hw = weight.merge(height, how='inner', on='stay_id')\n",
    "print(len(height))\n",
    "print(len(hw))"
   ]
  },
  {
   "cell_type": "code",
   "execution_count": null,
   "id": "676e964f",
   "metadata": {},
   "outputs": [],
   "source": [
    "hw.head(100)"
   ]
  },
  {
   "cell_type": "code",
   "execution_count": null,
   "id": "e66556b6",
   "metadata": {},
   "outputs": [],
   "source": [
    "hw.starttime = hw.starttime.apply(convert_time)\n",
    "hw.charttime = hw.charttime.apply(convert_time)"
   ]
  },
  {
   "cell_type": "code",
   "execution_count": null,
   "id": "0e8b67b8",
   "metadata": {},
   "outputs": [],
   "source": [
    "hw['time_diff'] = hw.starttime - hw.charttime\n",
    "hw['time_diff'] = hw['time_diff'].abs()\n",
    "\n",
    "hw['time_diff'] = hw['time_diff'] / pd.Timedelta(minutes=1)\n",
    "hw['min_time_diff'] = hw.groupby('stay_id')['time_diff'].transform('min')\n",
    "\n",
    "hw = hw.where(hw['time_diff'] == hw['min_time_diff'])\n",
    "\n",
    "\n",
    "hw = hw[hw['stay_id'].notna()]"
   ]
  },
  {
   "cell_type": "code",
   "execution_count": null,
   "id": "682f554b",
   "metadata": {},
   "outputs": [],
   "source": [
    "print(len(hw))"
   ]
  },
  {
   "cell_type": "code",
   "execution_count": null,
   "id": "4e57c5f6",
   "metadata": {},
   "outputs": [],
   "source": [
    "hw.head(5)"
   ]
  },
  {
   "cell_type": "code",
   "execution_count": null,
   "id": "8e40a0c4",
   "metadata": {},
   "outputs": [],
   "source": [
    "print(hw['stay_id'].nunique())"
   ]
  },
  {
   "cell_type": "code",
   "execution_count": null,
   "id": "630eabd3",
   "metadata": {},
   "outputs": [],
   "source": [
    "ti = pd.DataFrame({'stay_id':basic_table['stay_id'], 'pO2_time':basic_table['pO2_time']})\n",
    "ti.pO2_time = ti.pO2_time.apply(convert_time)"
   ]
  },
  {
   "cell_type": "code",
   "execution_count": null,
   "id": "6a58c1cf",
   "metadata": {},
   "outputs": [],
   "source": [
    "tihw = hw.merge(ti, how='inner', on='stay_id')\n",
    "print(len(tihw))"
   ]
  },
  {
   "cell_type": "code",
   "execution_count": null,
   "id": "5a4583ae",
   "metadata": {},
   "outputs": [],
   "source": [
    "print(tihw['stay_id'].nunique())"
   ]
  },
  {
   "cell_type": "code",
   "execution_count": null,
   "id": "dedbc981",
   "metadata": {},
   "outputs": [],
   "source": [
    "tihw.columns.values"
   ]
  },
  {
   "cell_type": "code",
   "execution_count": null,
   "id": "03861d84",
   "metadata": {},
   "outputs": [],
   "source": [
    "tihw =tihw.drop(['starttime','weight_type','charttime','time_diff','min_time_diff','pO2_time'], axis=1)\n",
    "tihw.head(100)"
   ]
  },
  {
   "cell_type": "code",
   "execution_count": null,
   "id": "e95774c2",
   "metadata": {},
   "outputs": [],
   "source": [
    "tihw.columns.values"
   ]
  },
  {
   "cell_type": "code",
   "execution_count": null,
   "id": "71c411e6",
   "metadata": {},
   "outputs": [],
   "source": [
    "tihw = tihw.drop_duplicates()\n",
    "tihw =tihw.reset_index()"
   ]
  },
  {
   "cell_type": "code",
   "execution_count": null,
   "id": "3f7d47d7",
   "metadata": {},
   "outputs": [],
   "source": [
    "tihw =tihw.drop(['level_0', 'index'], axis=1)\n",
    "tihw.head(100)"
   ]
  },
  {
   "cell_type": "code",
   "execution_count": null,
   "id": "3af0e9b8",
   "metadata": {},
   "outputs": [],
   "source": [
    "tihw['height'] = tihw['height']/100\n",
    "tihw['bmi'] = tihw['weight']/ (tihw['height'] * tihw['height'])\n",
    "tihw.head(10)"
   ]
  },
  {
   "cell_type": "code",
   "execution_count": null,
   "id": "ee858eed",
   "metadata": {},
   "outputs": [],
   "source": [
    "geab = gea.merge(tihw, how='left', on='stay_id')\n",
    "geab.head(5)"
   ]
  },
  {
   "cell_type": "code",
   "execution_count": null,
   "id": "5a6e6f00",
   "metadata": {},
   "outputs": [],
   "source": [
    "print(len(geab))\n",
    "print(len(geab['dicom']))\n",
    "print(geab['dicom'].nunique())"
   ]
  },
  {
   "cell_type": "code",
   "execution_count": null,
   "id": "8a51b5ba",
   "metadata": {},
   "outputs": [],
   "source": [
    "comorb = comorb.drop(['Unnamed: 0'], axis=1)\n",
    "comorb.head(10)"
   ]
  },
  {
   "cell_type": "code",
   "execution_count": null,
   "id": "e1f10df6",
   "metadata": {},
   "outputs": [],
   "source": [
    "print(len(comorb))\n",
    "print(comorb['hadm_id'].nunique())"
   ]
  },
  {
   "cell_type": "code",
   "execution_count": null,
   "id": "bb69f8c3",
   "metadata": {},
   "outputs": [],
   "source": [
    "demographics = geab.merge(comorb, how='left', on='hadm_id')\n",
    "print(len(demographics))\n",
    "print(len(demographics['dicom']))\n",
    "print(demographics['dicom'].nunique())\n",
    "demographics.columns.values"
   ]
  },
  {
   "cell_type": "code",
   "execution_count": null,
   "id": "234baa1c",
   "metadata": {},
   "outputs": [],
   "source": [
    "demographics = demographics.drop(['subject_id','subject_id_y'], axis=1)"
   ]
  },
  {
   "cell_type": "code",
   "execution_count": null,
   "id": "096ca62b",
   "metadata": {},
   "outputs": [],
   "source": [
    "demographics = demographics.sort_values(by=['label'])\n"
   ]
  },
  {
   "cell_type": "code",
   "execution_count": null,
   "id": "13a4a14e",
   "metadata": {},
   "outputs": [],
   "source": [
    "# demographics.to_excel('Downloads/demographics.xlsx')"
   ]
  },
  {
   "cell_type": "code",
   "execution_count": null,
   "id": "5939f488",
   "metadata": {},
   "outputs": [],
   "source": [
    "print(basic_table['subject_id'].nunique())\n",
    "print(basic_table['stay_id'].nunique())\n",
    "print(basic_table['dicom'].nunique())"
   ]
  },
  {
   "cell_type": "code",
   "execution_count": null,
   "id": "748f0323",
   "metadata": {},
   "outputs": [],
   "source": [
    "gender = pd.crosstab(demographics['label'], demographics['gender'])\n",
    "gender.head(7)"
   ]
  },
  {
   "cell_type": "code",
   "execution_count": null,
   "id": "6fda2165",
   "metadata": {},
   "outputs": [],
   "source": [
    "ethnicity = pd.crosstab(demographics['label'], demographics['race'])\n",
    "ethnicity.head(7)"
   ]
  },
  {
   "cell_type": "code",
   "execution_count": null,
   "id": "21675152",
   "metadata": {},
   "outputs": [],
   "source": []
  },
  {
   "cell_type": "code",
   "execution_count": null,
   "id": "254f57e6",
   "metadata": {},
   "outputs": [],
   "source": []
  },
  {
   "cell_type": "code",
   "execution_count": null,
   "id": "346c51d0",
   "metadata": {},
   "outputs": [],
   "source": []
  }
 ],
 "metadata": {
  "kernelspec": {
   "display_name": "Python 3 (ipykernel)",
   "language": "python",
   "name": "python3"
  },
  "language_info": {
   "codemirror_mode": {
    "name": "ipython",
    "version": 3
   },
   "file_extension": ".py",
   "mimetype": "text/x-python",
   "name": "python",
   "nbconvert_exporter": "python",
   "pygments_lexer": "ipython3",
   "version": "3.9.13"
  }
 },
 "nbformat": 4,
 "nbformat_minor": 5
}
