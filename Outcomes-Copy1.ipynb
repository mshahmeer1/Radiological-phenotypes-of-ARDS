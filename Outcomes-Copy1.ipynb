{
 "cells": [
  {
   "cell_type": "code",
   "execution_count": null,
   "id": "48ee2a9c",
   "metadata": {},
   "outputs": [],
   "source": [
    "import numpy as np\n",
    "import pandas as pd\n",
    "import matplotlib.pyplot as plt\n",
    "import pprint\n",
    "import os\n",
    "from sklearn.decomposition import PCA\n",
    "from sklearn.mixture import GaussianMixture\n",
    "from sklearn import metrics\n",
    "\n",
    "pd.set_option('display.max_colwidth',100000) #https://stackoverflow.com/questions/54692405/output-truncation-in-google-colab\n",
    "pd.set_option('display.max_rows', 100000)\n",
    "\n",
    "# Below imports are used to print out pretty pandas dataframes\n",
    "from IPython.display import display, HTML"
   ]
  },
  {
   "cell_type": "code",
   "execution_count": null,
   "id": "a91de7a1",
   "metadata": {},
   "outputs": [],
   "source": [
    "hosp_mort = pd.read_csv('Downloads/hosp_mort.csv')\n",
    "lomv = pd.read_csv('Downloads/lomv.csv')\n",
    "basic_table = pd.read_pickle('Downloads/basic_table.pkl')\n",
    "icu_detail = pd.read_csv('Downloads/icu_detail.csv')\n",
    "diagnoses = pd.read_csv('Downloads/diagnoses.csv')"
   ]
  },
  {
   "cell_type": "code",
   "execution_count": null,
   "id": "44e1300f",
   "metadata": {},
   "outputs": [],
   "source": [
    "from datetime import datetime\n",
    "def convert_time(x):\n",
    "  date_time_str = x\n",
    "  if date_time_str[-1] == ':':\n",
    "    date_time_str += '00'\n",
    "  date_time_obj = datetime.strptime(date_time_str, '%Y-%m-%d %H:%M:%S')\n",
    "  return date_time_obj"
   ]
  },
  {
   "cell_type": "code",
   "execution_count": null,
   "id": "f57621f8",
   "metadata": {},
   "outputs": [],
   "source": [
    "basic_table.columns.values"
   ]
  },
  {
   "cell_type": "code",
   "execution_count": null,
   "id": "a27aaf0c",
   "metadata": {},
   "outputs": [],
   "source": [
    "hosp_mort.columns.values"
   ]
  },
  {
   "cell_type": "code",
   "execution_count": null,
   "id": "40ad5d9e",
   "metadata": {},
   "outputs": [],
   "source": [
    "lomv.columns.values"
   ]
  },
  {
   "cell_type": "code",
   "execution_count": null,
   "id": "36169a07",
   "metadata": {},
   "outputs": [],
   "source": [
    "hosp_mort = hosp_mort.drop(['Unnamed: 0'], axis=1)"
   ]
  },
  {
   "cell_type": "code",
   "execution_count": null,
   "id": "8cac937a",
   "metadata": {},
   "outputs": [],
   "source": [
    "mort = basic_table.merge(hosp_mort, how='inner', on='hadm_id')\n",
    "print(len(mort))"
   ]
  },
  {
   "cell_type": "code",
   "execution_count": null,
   "id": "dcfd0d2b",
   "metadata": {},
   "outputs": [],
   "source": [
    "lomv = lomv.drop(['Unnamed: 0'], axis=1)\n",
    "lomv.starttime = lomv.starttime.apply(convert_time)\n",
    "lomv.endtime = lomv.endtime.apply(convert_time)\n",
    "lomv['lomv'] = lomv['endtime'] - lomv['starttime']\n",
    "lomv.head(5)"
   ]
  },
  {
   "cell_type": "code",
   "execution_count": null,
   "id": "4f674a9a",
   "metadata": {},
   "outputs": [],
   "source": [
    "lomv['lomv'] = lomv['lomv'] / pd.Timedelta(minutes=1)\n",
    "lomv.head(5)"
   ]
  },
  {
   "cell_type": "code",
   "execution_count": null,
   "id": "25bde132",
   "metadata": {},
   "outputs": [],
   "source": [
    "lomv = lomv.drop(['endtime'], axis=1)\n",
    "time = pd.DataFrame({'stay_id':basic_table['stay_id'], 'pO2_time':basic_table['pO2_time']})\n",
    "print(type(time['pO2_time'].iloc[0]))"
   ]
  },
  {
   "cell_type": "code",
   "execution_count": null,
   "id": "35436f5d",
   "metadata": {},
   "outputs": [],
   "source": [
    "time.pO2_time = time.pO2_time.apply(convert_time)"
   ]
  },
  {
   "cell_type": "code",
   "execution_count": null,
   "id": "0550ace7",
   "metadata": {},
   "outputs": [],
   "source": [
    "lmo = lomv.merge(time, how='inner', on='stay_id')\n",
    "lmo = lmo.drop(['starttime', 'pO2_time'], axis=1)\n",
    "print(len(lmo))\n",
    "lmo.head(5)"
   ]
  },
  {
   "cell_type": "code",
   "execution_count": null,
   "id": "c0d61683",
   "metadata": {},
   "outputs": [],
   "source": [
    "lmo = lmo.drop_duplicates()\n",
    "print(len(lmo))\n",
    "lmo.head(100)"
   ]
  },
  {
   "cell_type": "code",
   "execution_count": null,
   "id": "81420bf7",
   "metadata": {},
   "outputs": [],
   "source": [
    "print(lmo['stay_id'].nunique())"
   ]
  },
  {
   "cell_type": "code",
   "execution_count": null,
   "id": "4296ae1d",
   "metadata": {},
   "outputs": [],
   "source": [
    "lmo['lomv'] = lmo.groupby('stay_id')['lomv'].transform('sum')"
   ]
  },
  {
   "cell_type": "code",
   "execution_count": null,
   "id": "e457c5fa",
   "metadata": {},
   "outputs": [],
   "source": [
    "print(len(lmo))\n",
    "lmo.head(100)"
   ]
  },
  {
   "cell_type": "code",
   "execution_count": null,
   "id": "24590e3b",
   "metadata": {},
   "outputs": [],
   "source": [
    "lmo = lmo.drop_duplicates()\n",
    "lmo = lmo.reset_index()"
   ]
  },
  {
   "cell_type": "code",
   "execution_count": null,
   "id": "dad0129c",
   "metadata": {},
   "outputs": [],
   "source": [
    "print(len(lmo))\n",
    "lmo.head(100)"
   ]
  },
  {
   "cell_type": "code",
   "execution_count": null,
   "id": "1d4fce1c",
   "metadata": {},
   "outputs": [],
   "source": [
    "lmo = lmo.drop(['index'], axis=1)"
   ]
  },
  {
   "cell_type": "code",
   "execution_count": null,
   "id": "37c93d94",
   "metadata": {},
   "outputs": [],
   "source": [
    "outcomes = mort.merge(lmo, how='left', on='stay_id')\n",
    "print(len(outcomes))\n",
    "outcomes.head(100)"
   ]
  },
  {
   "cell_type": "code",
   "execution_count": null,
   "id": "4ecc46ae",
   "metadata": {},
   "outputs": [],
   "source": [
    "outcomes = outcomes.drop(['subject_id'], axis=1)\n"
   ]
  },
  {
   "cell_type": "code",
   "execution_count": null,
   "id": "7d29e9fb",
   "metadata": {},
   "outputs": [],
   "source": []
  },
  {
   "cell_type": "code",
   "execution_count": null,
   "id": "173c5044",
   "metadata": {},
   "outputs": [],
   "source": [
    "outcomes = outcomes.sort_values(by=['label'])"
   ]
  },
  {
   "cell_type": "code",
   "execution_count": null,
   "id": "08bae7ca",
   "metadata": {},
   "outputs": [],
   "source": [
    "outcomes['lomv_days'] = (outcomes['lomv']/60) /24"
   ]
  },
  {
   "cell_type": "code",
   "execution_count": null,
   "id": "f4a5a0db",
   "metadata": {},
   "outputs": [],
   "source": [
    "# outcomes.to_excel('Downloads/outcomes.xlsx')"
   ]
  },
  {
   "cell_type": "code",
   "execution_count": null,
   "id": "294fb6c3",
   "metadata": {},
   "outputs": [],
   "source": [
    "print(diagnoses['hadm_id'].nunique())\n",
    "print(len(diagnoses))"
   ]
  },
  {
   "cell_type": "code",
   "execution_count": null,
   "id": "b0528a14",
   "metadata": {},
   "outputs": [],
   "source": [
    "demo2 = basic_table.merge(icu_detail, how='left', on='stay_id')\n",
    "demo2.head(5)"
   ]
  },
  {
   "cell_type": "code",
   "execution_count": null,
   "id": "c53b6387",
   "metadata": {},
   "outputs": [],
   "source": [
    "print(len(demo2))"
   ]
  },
  {
   "cell_type": "code",
   "execution_count": null,
   "id": "ac02bfc5",
   "metadata": {},
   "outputs": [],
   "source": [
    "demo2.columns.values"
   ]
  },
  {
   "cell_type": "code",
   "execution_count": null,
   "id": "da796002",
   "metadata": {},
   "outputs": [],
   "source": [
    "gendertab = pd.crosstab(demo2['label'], demo2['gender'])\n",
    "racetab = pd.crosstab(demo2['label'], demo2['race'])\n",
    "morttab = pd.crosstab(demo2['label'], demo2['hospital_expire_flag'])"
   ]
  },
  {
   "cell_type": "code",
   "execution_count": null,
   "id": "bc9b7b97",
   "metadata": {
    "scrolled": true
   },
   "outputs": [],
   "source": [
    "gendertab.head(7)"
   ]
  },
  {
   "cell_type": "code",
   "execution_count": null,
   "id": "4cdefc2e",
   "metadata": {},
   "outputs": [],
   "source": [
    "racetab.head(7)"
   ]
  },
  {
   "cell_type": "code",
   "execution_count": null,
   "id": "975c8d87",
   "metadata": {},
   "outputs": [],
   "source": [
    "morttab.head(7)"
   ]
  },
  {
   "cell_type": "code",
   "execution_count": null,
   "id": "1f528427",
   "metadata": {},
   "outputs": [],
   "source": []
  },
  {
   "cell_type": "code",
   "execution_count": null,
   "id": "dacef183",
   "metadata": {},
   "outputs": [],
   "source": [
    "diag = basic_table.merge(diagnoses, how='left', on='hadm_id')\n",
    "diag = diag.drop(['Unnamed: 0'], axis=1)\n",
    "\n",
    "diag.head(50)"
   ]
  },
  {
   "cell_type": "code",
   "execution_count": null,
   "id": "8d58252a",
   "metadata": {},
   "outputs": [],
   "source": [
    "mel_count=diag['long_title'].str.contains('sepsis').sum()\n",
    "if mel_count>0:\n",
    "    print (\"There are {m} Mels\".format(m=mel_count))"
   ]
  },
  {
   "cell_type": "code",
   "execution_count": null,
   "id": "a921b1f0",
   "metadata": {},
   "outputs": [],
   "source": [
    "pneumonia = pd.DataFrame({'dicom':diag['dicom'], 'label':diag['label'], 'long_title': diag['long_title']})\n",
    "pneumonia = pneumonia.where(pneumonia['long_title'].str.contains('eart failure'))\n",
    "pneumonia = pneumonia.where(pneumonia['long_title'].str.contains('cute'))\n",
    "pneumonia = pneumonia.dropna()\n",
    "pneumonia = pneumonia.drop_duplicates(subset='dicom')\n",
    "print(len(pneumonia))"
   ]
  },
  {
   "cell_type": "code",
   "execution_count": null,
   "id": "257de090",
   "metadata": {},
   "outputs": [],
   "source": [
    "print(pneumonia['label'].value_counts(normalize=False))"
   ]
  },
  {
   "cell_type": "code",
   "execution_count": null,
   "id": "48341e36",
   "metadata": {},
   "outputs": [],
   "source": [
    "pneumonia['long_title'].head(20)"
   ]
  },
  {
   "cell_type": "code",
   "execution_count": null,
   "id": "6f9e0a2a",
   "metadata": {},
   "outputs": [],
   "source": [
    "# demo2.to_excel('Downloads/icu_detail.xlsx')\n",
    "# diag.to_excel('Downloads/diag.xlsx')"
   ]
  },
  {
   "cell_type": "code",
   "execution_count": null,
   "id": "3b30c474",
   "metadata": {},
   "outputs": [],
   "source": []
  }
 ],
 "metadata": {
  "kernelspec": {
   "display_name": "Python 3 (ipykernel)",
   "language": "python",
   "name": "python3"
  },
  "language_info": {
   "codemirror_mode": {
    "name": "ipython",
    "version": 3
   },
   "file_extension": ".py",
   "mimetype": "text/x-python",
   "name": "python",
   "nbconvert_exporter": "python",
   "pygments_lexer": "ipython3",
   "version": "3.9.13"
  }
 },
 "nbformat": 4,
 "nbformat_minor": 5
}
