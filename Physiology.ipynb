{
 "cells": [
  {
   "cell_type": "code",
   "execution_count": null,
   "id": "9d060248",
   "metadata": {},
   "outputs": [],
   "source": [
    "import numpy as np\n",
    "import pandas as pd\n",
    "import matplotlib.pyplot as plt\n",
    "import pprint\n",
    "import os\n",
    "from sklearn.decomposition import PCA\n",
    "from sklearn.mixture import GaussianMixture\n",
    "from sklearn import metrics\n",
    "\n",
    "pd.set_option('display.max_colwidth',100000) #https://stackoverflow.com/questions/54692405/output-truncation-in-google-colab\n",
    "pd.set_option('display.max_rows', 100000)\n",
    "\n",
    "# Below imports are used to print out pretty pandas dataframes\n",
    "from IPython.display import display, HTML"
   ]
  },
  {
   "cell_type": "code",
   "execution_count": null,
   "id": "e98c6cfd",
   "metadata": {},
   "outputs": [],
   "source": [
    "from datetime import datetime\n",
    "def convert_time(x):\n",
    "  date_time_str = x\n",
    "  if date_time_str[-1] == ':':\n",
    "    date_time_str += '00'\n",
    "  date_time_obj = datetime.strptime(date_time_str, '%Y-%m-%d %H:%M:%S')\n",
    "  return date_time_obj"
   ]
  },
  {
   "cell_type": "code",
   "execution_count": null,
   "id": "fbf55414",
   "metadata": {},
   "outputs": [],
   "source": [
    "basic_table = pd.read_pickle('Downloads/basic_table.pkl')\n",
    "physio = pd.read_csv('Downloads/physiology.csv')\n",
    "final_adult_patients = pd.read_csv('Downloads/final_adult_patients.csv')\n",
    "vasoactive = pd.read_csv('Downloads/vasoactive.csv')\n",
    "rrt = pd.read_csv('Downloads/rrt.csv')"
   ]
  },
  {
   "cell_type": "code",
   "execution_count": null,
   "id": "9a94a4c1",
   "metadata": {},
   "outputs": [],
   "source": [
    "print(type(basic_table['pO2_time'].iloc[0]))"
   ]
  },
  {
   "cell_type": "code",
   "execution_count": null,
   "id": "7a3414b9",
   "metadata": {},
   "outputs": [],
   "source": [
    "physio.charttime = physio.charttime.apply(convert_time)\n",
    "basic_table.pO2_time = basic_table.pO2_time.apply(convert_time)\n",
    "physio.head(5)"
   ]
  },
  {
   "cell_type": "code",
   "execution_count": null,
   "id": "c9327ca3",
   "metadata": {},
   "outputs": [],
   "source": [
    "print(type(basic_table['pO2_time'].iloc[0]))"
   ]
  },
  {
   "cell_type": "code",
   "execution_count": null,
   "id": "27ad96ad",
   "metadata": {},
   "outputs": [],
   "source": [
    "basic_table.columns.values"
   ]
  },
  {
   "cell_type": "code",
   "execution_count": null,
   "id": "90e70923",
   "metadata": {},
   "outputs": [],
   "source": [
    "time = pd.DataFrame({'stay_id': basic_table['stay_id'], 'pO2_time': basic_table['pO2_time'], 'dicom':basic_table['dicom'] })"
   ]
  },
  {
   "cell_type": "code",
   "execution_count": null,
   "id": "d9cf2d61",
   "metadata": {},
   "outputs": [],
   "source": [
    "phys = physio.merge(time, how='inner', on='stay_id')\n",
    "phys = phys.drop(['Unnamed: 0'], axis=1)\n",
    "phys.head(50)"
   ]
  },
  {
   "cell_type": "code",
   "execution_count": null,
   "id": "4c169000",
   "metadata": {
    "scrolled": true
   },
   "outputs": [],
   "source": [
    "print(phys['dicom'].nunique())"
   ]
  },
  {
   "cell_type": "code",
   "execution_count": null,
   "id": "c37713d4",
   "metadata": {},
   "outputs": [],
   "source": [
    "phys['time_diff'] = phys.pO2_time - phys.charttime\n",
    "phys = phys[phys['time_diff'] > pd.Timedelta(0)]\n",
    "\n",
    "phys['time_diff'] = phys['time_diff'] / pd.Timedelta(minutes=1)\n",
    "phys['min_time_diff'] = phys.groupby('dicom')['time_diff'].transform('min')\n",
    "\n",
    "phys = phys.where(phys['time_diff'] == phys['min_time_diff'])\n",
    "\n",
    "phys = phys[phys['dicom'].notna()]\n"
   ]
  },
  {
   "cell_type": "code",
   "execution_count": null,
   "id": "d009395e",
   "metadata": {},
   "outputs": [],
   "source": [
    "print(len(phys))\n",
    "print(phys['dicom'].nunique())\n",
    "print(phys['subject_id'].nunique())\n"
   ]
  },
  {
   "cell_type": "code",
   "execution_count": null,
   "id": "8746d20b",
   "metadata": {},
   "outputs": [],
   "source": [
    "phys = phys.reset_index()\n",
    "phys = phys.drop(['index'], axis=1)\n",
    "phys.head(5)"
   ]
  },
  {
   "cell_type": "code",
   "execution_count": null,
   "id": "f6d339c0",
   "metadata": {},
   "outputs": [],
   "source": []
  },
  {
   "cell_type": "code",
   "execution_count": null,
   "id": "e9ce1a22",
   "metadata": {},
   "outputs": [],
   "source": [
    "fio2 = pd.DataFrame({'fio2': final_adult_patients['converted_fiO2'], 'dicom':final_adult_patients['dicom'] })"
   ]
  },
  {
   "cell_type": "code",
   "execution_count": null,
   "id": "63e30de5",
   "metadata": {},
   "outputs": [],
   "source": [
    "physio = basic_table.merge(fio2, how='inner', on='dicom')\n",
    "physio.head(100)"
   ]
  },
  {
   "cell_type": "code",
   "execution_count": null,
   "id": "3bd47c35",
   "metadata": {},
   "outputs": [],
   "source": [
    "physio = physio.drop_duplicates(subset='dicom', ignore_index=True)"
   ]
  },
  {
   "cell_type": "code",
   "execution_count": null,
   "id": "794d758b",
   "metadata": {},
   "outputs": [],
   "source": [
    "physio.head(100\n",
    "           )"
   ]
  },
  {
   "cell_type": "code",
   "execution_count": null,
   "id": "53277453",
   "metadata": {},
   "outputs": [],
   "source": [
    "print(len(physio))\n",
    "print(physio['dicom'].nunique())\n",
    "print(physio['stay_id'].nunique())\n"
   ]
  },
  {
   "cell_type": "code",
   "execution_count": null,
   "id": "6e469f10",
   "metadata": {},
   "outputs": [],
   "source": [
    "phys = phys.drop(['time_diff','min_time_diff',], axis=1)"
   ]
  },
  {
   "cell_type": "code",
   "execution_count": null,
   "id": "b8d446b9",
   "metadata": {},
   "outputs": [],
   "source": [
    "ph = physio.merge(phys, how='left', on='dicom')\n",
    "ph.head(50)"
   ]
  },
  {
   "cell_type": "code",
   "execution_count": null,
   "id": "1cb483bd",
   "metadata": {},
   "outputs": [],
   "source": [
    "print(len(ph))\n",
    "print(ph['dicom'].nunique())\n",
    "print(ph['stay_id_x'].nunique())"
   ]
  },
  {
   "cell_type": "code",
   "execution_count": null,
   "id": "8e497d88",
   "metadata": {},
   "outputs": [],
   "source": [
    "ph.columns.values\n"
   ]
  },
  {
   "cell_type": "code",
   "execution_count": null,
   "id": "dff57348",
   "metadata": {},
   "outputs": [],
   "source": [
    "ph =ph.drop(['fio2_y', 'pO2_time_y', 'stay_id_y','charttime',], axis=1)\n",
    "ph = ph.sort_values(by=['label'])\n",
    "ph.head(20)"
   ]
  },
  {
   "cell_type": "code",
   "execution_count": null,
   "id": "da123c1b",
   "metadata": {},
   "outputs": [],
   "source": [
    "ph['driving_pressure']= ph.plateau_pressure - ph.peep\n",
    "ph = ph.reset_index()\n",
    "ph.head(5)"
   ]
  },
  {
   "cell_type": "code",
   "execution_count": null,
   "id": "21832da4",
   "metadata": {},
   "outputs": [],
   "source": [
    "ph =ph.drop(['subject_id'], axis=1)"
   ]
  },
  {
   "cell_type": "code",
   "execution_count": null,
   "id": "bdafa851",
   "metadata": {},
   "outputs": [],
   "source": [
    "ph =ph.drop(['index'], axis=1)"
   ]
  },
  {
   "cell_type": "code",
   "execution_count": null,
   "id": "40f59628",
   "metadata": {},
   "outputs": [],
   "source": [
    "print(ph['driving_pressure'].nunique())"
   ]
  },
  {
   "cell_type": "code",
   "execution_count": null,
   "id": "fb7f0045",
   "metadata": {},
   "outputs": [],
   "source": [
    "# ph.to_excel('Downloads/phyiology.xlsx')"
   ]
  },
  {
   "cell_type": "code",
   "execution_count": null,
   "id": "9cbf51e5",
   "metadata": {},
   "outputs": [],
   "source": [
    "vasoactive = vasoactive.drop(['Unnamed: 0'], axis=1)\n",
    "vasoactive.columns.values"
   ]
  },
  {
   "cell_type": "code",
   "execution_count": null,
   "id": "e17bb1d9",
   "metadata": {},
   "outputs": [],
   "source": [
    "vasoactive = vasoactive.groupby('stay_id').sum()\n",
    "\n",
    "vasoactive.reset_index(inplace=True)\n",
    "\n",
    "vasoactive.head(10)"
   ]
  },
  {
   "cell_type": "code",
   "execution_count": null,
   "id": "8a898948",
   "metadata": {},
   "outputs": [],
   "source": [
    "time.columns.values"
   ]
  },
  {
   "cell_type": "code",
   "execution_count": null,
   "id": "b493f297",
   "metadata": {},
   "outputs": [],
   "source": [
    "vas = time.merge(vasoactive, how='left', on='stay_id')\n",
    "print(len(vas))\n",
    "vas.head(10)"
   ]
  },
  {
   "cell_type": "code",
   "execution_count": null,
   "id": "51a7f0eb",
   "metadata": {},
   "outputs": [],
   "source": [
    "organ_support = basic_table.merge(vas, how='left', on='dicom')\n",
    "print(len(organ_support))"
   ]
  },
  {
   "cell_type": "code",
   "execution_count": null,
   "id": "36b61d08",
   "metadata": {},
   "outputs": [],
   "source": [
    "organ_support['vasopressors'] = organ_support['dopamine'] + organ_support['epinephrine'] + organ_support['norepinephrine'] + organ_support['phenylephrine'] + organ_support['vasopressin']\n",
    "\n",
    "organ_support['inotropes'] = organ_support['dopamine'] + organ_support['epinephrine'] + organ_support['norepinephrine'] + organ_support['milrinone'] + organ_support['dobutamine']\n",
    "organ_support.head(5)"
   ]
  },
  {
   "cell_type": "code",
   "execution_count": null,
   "id": "143b04b1",
   "metadata": {},
   "outputs": [],
   "source": [
    "# organ_support.to_excel('Downloads/organ_support.xlsx')"
   ]
  },
  {
   "cell_type": "code",
   "execution_count": null,
   "id": "b651e407",
   "metadata": {},
   "outputs": [],
   "source": [
    "rrt = rrt.drop(['Unnamed: 0','charttime', 'dialysis_type', 'dialysis_active' ], axis = 1)\n",
    "rrt = rrt.groupby('stay_id').sum()\n",
    "vasoactive.reset_index(inplace=True)\n",
    "rrt.columns.values"
   ]
  },
  {
   "cell_type": "code",
   "execution_count": null,
   "id": "dc7e67ec",
   "metadata": {},
   "outputs": [],
   "source": [
    "rrt.head(20)"
   ]
  },
  {
   "cell_type": "code",
   "execution_count": null,
   "id": "4ad94831",
   "metadata": {},
   "outputs": [],
   "source": [
    "print(len (rrt))\n",
    "print(rrt['stay_id'].nunique())"
   ]
  },
  {
   "cell_type": "code",
   "execution_count": null,
   "id": "466e2c58",
   "metadata": {},
   "outputs": [],
   "source": [
    "rrtt = basic_table.merge(rrt, how='left', on='stay_id')\n",
    "print(len (rrtt))\n",
    "print(rrtt['stay_id'].nunique())"
   ]
  },
  {
   "cell_type": "code",
   "execution_count": null,
   "id": "8dab71d1",
   "metadata": {},
   "outputs": [],
   "source": [
    "rrtt.head(50)"
   ]
  },
  {
   "cell_type": "code",
   "execution_count": null,
   "id": "63c74ba0",
   "metadata": {},
   "outputs": [],
   "source": [
    "# rrtt.to_excel('Downloads/rrt2.xlsx')"
   ]
  },
  {
   "cell_type": "code",
   "execution_count": null,
   "id": "8c7e0e08",
   "metadata": {},
   "outputs": [],
   "source": []
  }
 ],
 "metadata": {
  "kernelspec": {
   "display_name": "Python 3 (ipykernel)",
   "language": "python",
   "name": "python3"
  },
  "language_info": {
   "codemirror_mode": {
    "name": "ipython",
    "version": 3
   },
   "file_extension": ".py",
   "mimetype": "text/x-python",
   "name": "python",
   "nbconvert_exporter": "python",
   "pygments_lexer": "ipython3",
   "version": "3.9.13"
  }
 },
 "nbformat": 4,
 "nbformat_minor": 5
}
