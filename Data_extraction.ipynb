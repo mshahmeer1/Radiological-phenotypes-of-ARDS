{
  "nbformat": 4,
  "nbformat_minor": 0,
  "metadata": {
    "colab": {
      "provenance": [],
      "authorship_tag": "ABX9TyPXRm/1B1bAJXzWxnV3vf0E",
      "include_colab_link": true
    },
    "kernelspec": {
      "name": "python3",
      "display_name": "Python 3"
    },
    "language_info": {
      "name": "python"
    }
  },
  "cells": [
    {
      "cell_type": "markdown",
      "metadata": {
        "id": "view-in-github",
        "colab_type": "text"
      },
      "source": [
        "<a href=\"https://colab.research.google.com/github/mshahmeer1/Radiological-phenotypes-of-ARDS/blob/main/Data_extraction.ipynb\" target=\"_parent\"><img src=\"https://colab.research.google.com/assets/colab-badge.svg\" alt=\"Open In Colab\"/></a>"
      ]
    },
    {
      "cell_type": "code",
      "execution_count": null,
      "metadata": {
        "id": "z-T9aFenolQi"
      },
      "outputs": [],
      "source": [
        "import numpy as np\n",
        "import pandas as pd\n",
        "import matplotlib.pyplot as plt\n",
        "import pprint\n",
        "import os\n",
        "\n",
        "pd.set_option('display.max_colwidth',100000) #https://stackoverflow.com/questions/54692405/output-truncation-in-google-colab\n",
        "\n",
        "# Below imports are used to print out pretty pandas dataframes\n",
        "from IPython.display import display, HTML\n",
        "\n",
        "# Imports for accessing Datathon data using Google BigQuery.\n",
        "from google.colab import auth\n",
        "from google.cloud import bigquery\n",
        "from google.colab import files"
      ]
    },
    {
      "cell_type": "code",
      "source": [
        "#user authentication\n",
        "auth.authenticate_user()"
      ],
      "metadata": {
        "id": "ZDqT5wwtotVp"
      },
      "execution_count": null,
      "outputs": []
    },
    {
      "cell_type": "code",
      "source": [
        "# Set up the project ID\n",
        "# Note that the physionet-data project is for data hosting only.\n",
        "project_id = 'august-tangent-380700'\n",
        "os.environ['august-tangent-380700'] = project_id"
      ],
      "metadata": {
        "id": "mVmqs7umox0B"
      },
      "execution_count": null,
      "outputs": []
    },
    {
      "cell_type": "code",
      "source": [
        "# Read data from BigQuery into pandas dataframes.\n",
        "def run_query(query):\n",
        "  return pd.io.gbq.read_gbq(\n",
        "      query,\n",
        "      project_id=project_id,\n",
        "      configuration={'query': {\n",
        "          'useLegacySql': False\n",
        "      }})"
      ],
      "metadata": {
        "id": "6fnvR-q0o8BX"
      },
      "execution_count": null,
      "outputs": []
    },
    {
      "cell_type": "code",
      "source": [
        "query = ''' with mvp AS\n",
        "(\n",
        "with ce_stg1 as\n",
        "(\n",
        "  SELECT\n",
        "      ce.subject_id\n",
        "    , ce.stay_id\n",
        "    , ce.charttime\n",
        "    , CASE\n",
        "        -- merge o2 flows into a single row\n",
        "        WHEN itemid IN (223834, 227582, 224691) THEN 223834\n",
        "      ELSE itemid END AS itemid\n",
        "    , value\n",
        "    , valuenum\n",
        "    , valueuom\n",
        "    , storetime\n",
        "  FROM physionet-data.mimiciv_icu.chartevents ce\n",
        "  WHERE ce.value IS NOT NULL\n",
        "  AND ce.itemid IN\n",
        "  (\n",
        "      223834 -- o2 flow\n",
        "    , 227582 -- bipap o2 flow\n",
        "    , 224691 -- Flow Rate (L)\n",
        "    -- additional o2 flow is its own column\n",
        "    , 227287 -- additional o2 flow\n",
        "  )\n",
        ")\n",
        ", ce_stg2 AS\n",
        "(\n",
        "  select\n",
        "    ce.subject_id\n",
        "    , ce.stay_id\n",
        "    , ce.charttime\n",
        "    , itemid\n",
        "    , value\n",
        "    , valuenum\n",
        "    , valueuom\n",
        "    -- retain only 1 row per charttime\n",
        "    -- prioritizing the last documented value\n",
        "    -- primarily used to subselect o2 flows\n",
        "    , ROW_NUMBER() OVER (PARTITION BY subject_id, charttime, itemid ORDER BY storetime DESC) as rn\n",
        "  FROM ce_stg1 ce\n",
        ")\n",
        ", o2 AS\n",
        "(\n",
        "    -- The below ITEMID can have multiple entires for charttime/storetime\n",
        "    -- These are totally valid entries, and should be retained in derived tables.\n",
        "    --   224181 -- Small Volume Neb Drug #1              | Respiratory             | Text       | chartevents\n",
        "    -- , 227570 -- Small Volume Neb Drug/Dose #1         | Respiratory             | Text       | chartevents\n",
        "    -- , 224833 -- SBT Deferred                          | Respiratory             | Text       | chartevents\n",
        "    -- , 224716 -- SBT Stopped                           | Respiratory             | Text       | chartevents\n",
        "    -- , 224740 -- RSBI Deferred                         | Respiratory             | Text       | chartevents\n",
        "    -- , 224829 -- Trach Tube Type                       | Respiratory             | Text       | chartevents\n",
        "    -- , 226732 -- O2 Delivery Device(s)                 | Respiratory             | Text       | chartevents\n",
        "    -- , 226873 -- Inspiratory Ratio                     | Respiratory             | Numeric    | chartevents\n",
        "    -- , 226871 -- Expiratory Ratio                      | Respiratory             | Numeric    | chartevents\n",
        "    -- maximum of 4 o2 devices on at once\n",
        "    SELECT\n",
        "        subject_id\n",
        "        , stay_id\n",
        "        , charttime\n",
        "        , itemid\n",
        "        , value AS o2_device\n",
        "    , ROW_NUMBER() OVER (PARTITION BY subject_id, charttime, itemid ORDER BY value) as rn\n",
        "    FROM physionet-data.mimiciv_icu.chartevents\n",
        "    WHERE itemid = 226732 \n",
        "    AND value in ('Trach mask', 'Tracheostomy tube', 'Bipap mask', 'CPAP mask', 'Endotracheal tube', 'T-piece')-- oxygen delivery device(s)\n",
        ")\n",
        ", stg AS\n",
        "(\n",
        "    select\n",
        "      COALESCE(ce.subject_id, o2.subject_id) AS subject_id\n",
        "    , COALESCE(ce.stay_id, o2.stay_id) AS stay_id\n",
        "    , COALESCE(ce.charttime, o2.charttime) AS charttime\n",
        "    , COALESCE(ce.itemid, o2.itemid) AS itemid\n",
        "    , ce.value\n",
        "    , ce.valuenum\n",
        "    , o2.o2_device\n",
        "    , o2.rn\n",
        "    from ce_stg2 ce\n",
        "    FULL OUTER JOIN o2\n",
        "      ON ce.subject_id = o2.subject_id\n",
        "      AND ce.charttime = o2.charttime\n",
        "    -- limit to 1 row per subject_id/charttime/itemid from ce_stg2\n",
        "    WHERE ce.rn = 1\n",
        ")\n",
        "SELECT\n",
        "    subject_id\n",
        "    , MAX(stay_id) AS stay_id\n",
        "    , charttime\n",
        "    , MAX(CASE WHEN itemid = 223834 THEN valuenum ELSE NULL END) AS o2_flow\n",
        "    , MAX(CASE WHEN itemid = 227287 THEN valuenum ELSE NULL END) AS o2_flow_additional\n",
        "    -- ensure we retain all o2 devices for the patient\n",
        "    , MAX(CASE WHEN rn = 1 THEN o2_device ELSE NULL END) AS o2_delivery_device_1\n",
        "    , MAX(CASE WHEN rn = 2 THEN o2_device ELSE NULL END) AS o2_delivery_device_2\n",
        "    , MAX(CASE WHEN rn = 3 THEN o2_device ELSE NULL END) AS o2_delivery_device_3\n",
        "    , MAX(CASE WHEN rn = 4 THEN o2_device ELSE NULL END) AS o2_delivery_device_4\n",
        "FROM stg\n",
        "GROUP BY subject_id, charttime\n",
        "\n",
        ")\n",
        "SELECT\n",
        " *\n",
        " FROM mvp\n",
        " WHERE o2_delivery_device_1 IS NOT NULL\n",
        " OR o2_delivery_device_2 IS NOT NULL\n",
        " OR o2_delivery_device_3 IS NOT NULL\n",
        " OR o2_delivery_device_4 IS NOT NULL\n",
        "\n",
        "\n",
        "'''\n",
        "\n",
        "d= run_query(query)\n",
        "d.head(5)"
      ],
      "metadata": {
        "id": "GfB67OlDpJgc"
      },
      "execution_count": null,
      "outputs": []
    },
    {
      "cell_type": "code",
      "source": [
        "d.to_csv('MV.csv')\n",
        "files.download('MV.csv')"
      ],
      "metadata": {
        "id": "UMoUJi5Api6z"
      },
      "execution_count": null,
      "outputs": []
    },
    {
      "cell_type": "code",
      "source": [
        "query = ''' \n",
        "\n",
        " SELECT \n",
        "   subject_id\n",
        "    , stay_id\n",
        "    , charttime\n",
        "    , value\n",
        "    , valuenum\n",
        "    , valueuom\n",
        "  FROM physionet-data.mimiciv_icu.chartevents \n",
        "  WHERE itemid = 220224\n",
        "ORDER BY subject_id, stay_id, charttime\n",
        "'''\n",
        "pO2 = run_query(query)\n",
        "\n",
        "pO2.head(5)\n"
      ],
      "metadata": {
        "id": "mAJXLBsOpcod"
      },
      "execution_count": null,
      "outputs": []
    },
    {
      "cell_type": "code",
      "source": [
        "pO2.to_csv('pO2.csv')\n",
        "files.download('pO2.csv')"
      ],
      "metadata": {
        "id": "VbsTzukpqXWV"
      },
      "execution_count": null,
      "outputs": []
    },
    {
      "cell_type": "code",
      "source": [
        "query= '''\n",
        "SELECT \n",
        "      subject_id\n",
        "    , stay_id\n",
        "    , charttime\n",
        "    , value\n",
        "    , valuenum\n",
        "    , valueuom,\n",
        "    CASE\n",
        "      WHEN valuenum >= 21.0 THEN valuenum * 0.01\n",
        "      WHEN valuenum >= 1.0 and valuenum < 21.0 THEN (20 + (4 * valuenum)) * 0.01\n",
        "      WHEN valuenum < 1.0 AND valuenum > 0 THEN valuenum\n",
        "      WHEN valuenum = 0.0 THEN 0.21\n",
        "      ELSE NULL\n",
        "    END as converted_fiO2,\n",
        "\n",
        "\n",
        "  FROM physionet-data.mimiciv_icu.chartevents\n",
        "  WHERE itemid = 223835\n",
        "ORDER BY subject_id, stay_id, charttime\n",
        "'''\n",
        "fiO2 = run_query(query)\n",
        "\n",
        "fiO2.head(5)\n"
      ],
      "metadata": {
        "id": "2JYJQqU4qc0x"
      },
      "execution_count": null,
      "outputs": []
    },
    {
      "cell_type": "code",
      "source": [
        "fiO2.to_csv('fiO2.csv')\n",
        "files.download('fiO2.csv')"
      ],
      "metadata": {
        "id": "8e83mEDtraeQ"
      },
      "execution_count": null,
      "outputs": []
    },
    {
      "cell_type": "code",
      "source": [
        "query= '''\n",
        "SELECT * \n",
        "\n",
        "FROM physionet-data.mimiciv_icu.procedureevents\n",
        "  WHERE itemid = 221216\n",
        "\n",
        "ORDER BY subject_id, stay_id\n",
        "'''\n",
        "Xray = run_query(query)\n",
        "\n",
        "Xray.head(5)\n"
      ],
      "metadata": {
        "id": "3baHTsMWzbHs"
      },
      "execution_count": null,
      "outputs": []
    },
    {
      "cell_type": "code",
      "source": [
        "Xray.to_csv('Xray.csv')\n",
        "files.download('Xray.csv')"
      ],
      "metadata": {
        "id": "I3VYxJAs0GkF"
      },
      "execution_count": null,
      "outputs": []
    },
    {
      "cell_type": "code",
      "source": [
        "query= '''\n",
        "SELECT *\n",
        "\n",
        "FROM `physionet-data.mimiciv_derived.age`\n",
        "\n",
        "WHERE age >= 18\n",
        "ORDER BY subject_id, hadm_id\n",
        "'''\n",
        "age = run_query(query)\n",
        "\n",
        "age.head(5)"
      ],
      "metadata": {
        "id": "H-W6wCVj1MDM"
      },
      "execution_count": null,
      "outputs": []
    },
    {
      "cell_type": "code",
      "source": [
        "age.to_csv('age.csv')\n",
        "files.download('age.csv')"
      ],
      "metadata": {
        "id": "FX0hXsxo2DpP"
      },
      "execution_count": null,
      "outputs": []
    },
    {
      "cell_type": "code",
      "source": [
        "query= '''\n",
        "SELECT \n",
        "  dicom\n",
        ", PatientID\n",
        ", StudyID\n",
        ", StudyDate\n",
        ", StudyTime \n",
        "FROM `physionet-data.mimic_cxr.dicom_metadata_string` \n",
        "ORDER BY PatientID, StudyDate\n",
        "\n",
        "'''\n",
        "mimic_cxr = run_query(query)\n",
        "\n",
        "mimic_cxr.head(5)"
      ],
      "metadata": {
        "id": "F5dyuVW9DKCl"
      },
      "execution_count": null,
      "outputs": []
    },
    {
      "cell_type": "code",
      "source": [
        "mimic_cxr.to_csv('mimic_cxr.csv')\n",
        "files.download('mimic_cxr.csv')"
      ],
      "metadata": {
        "id": "UFvIKv52DnY6"
      },
      "execution_count": null,
      "outputs": []
    },
    {
      "cell_type": "code",
      "source": [
        "query = '''\n",
        "with mv as (\n",
        "SELECT distinct stay_id FROM `physionet-data.mimiciv_derived.ventilation` \n",
        "where ventilation_status='InvasiveVent'\n",
        ")\n",
        "\n",
        "select subject_id, hadm_id, ics.stay_id\n",
        "FROM `physionet-data.mimiciv_icu.icustays` ics, mv\n",
        "where ics.stay_id=mv.stay_id\n",
        "\n",
        "ORDER BY subject_id, ics.stay_id\n",
        "'''\n",
        "derived_MV = run_query(query)\n",
        "derived_MV.head()"
      ],
      "metadata": {
        "id": "lh2jF85vnv1T"
      },
      "execution_count": null,
      "outputs": []
    },
    {
      "cell_type": "code",
      "source": [
        "derived_MV.to_csv('derived_MV.csv')\n",
        "files.download('derived_MV.csv')"
      ],
      "metadata": {
        "id": "Mg7e4dvapRjr"
      },
      "execution_count": null,
      "outputs": []
    },
    {
      "cell_type": "code",
      "source": [
        "query= '''\n",
        "with ic as\n",
        "(select subject_id, hadm_id, stay_id\n",
        "FROM `physionet-data.mimiciv_icu.icustays`)\n",
        "\n",
        "SELECT pO2.subject_id, po2, charttime\n",
        "FROM `physionet-data.mimiciv_derived.bg` pO2, ic\n",
        "WHERE SPECIMEN= 'ART.' AND ic.subject_id = pO2.subject_id\n",
        "ORDER BY subject_id\n",
        "'''\n",
        "derived_pO2 = run_query(query)\n",
        "derived_pO2.head()"
      ],
      "metadata": {
        "id": "4D-Lr4__p3Or"
      },
      "execution_count": null,
      "outputs": []
    },
    {
      "cell_type": "code",
      "source": [
        "derived_pO2.to_csv('derived_pO2.csv')\n",
        "files.download('derived_pO2.csv')"
      ],
      "metadata": {
        "id": "Dng7jAvJqmTo"
      },
      "execution_count": null,
      "outputs": []
    },
    {
      "cell_type": "code",
      "source": [
        "query= '''\n",
        "SELECT subject_id, fio2_chartevents, charttime,\n",
        "    CASE\n",
        "      WHEN fio2_chartevents >= 21.0 THEN fio2_chartevents * 0.01\n",
        "      WHEN fio2_chartevents >= 1.0 and fio2_chartevents < 21.0 THEN (20 + (4 * fio2_chartevents)) * 0.01\n",
        "      WHEN fio2_chartevents < 1.0 AND fio2_chartevents > 0 THEN fio2_chartevents\n",
        "      WHEN fio2_chartevents = 0.0 THEN 0.21\n",
        "      ELSE NULL\n",
        "    END as converted_fiO2,\n",
        "FROM `physionet-data.mimiciv_derived.bg` \n",
        "WHERE SPECIMEN= 'ART.'\n",
        "ORDER BY subject_id\n",
        "'''\n",
        "derived_fiO2 = run_query(query)\n",
        "derived_fiO2.head()"
      ],
      "metadata": {
        "id": "zjOl5gzlqrL9"
      },
      "execution_count": null,
      "outputs": []
    },
    {
      "cell_type": "code",
      "source": [
        "derived_fiO2.to_csv('derived_fiO2.csv')\n",
        "files.download('derived_fiO2.csv')"
      ],
      "metadata": {
        "id": "w4JY0_LprB0a"
      },
      "execution_count": null,
      "outputs": []
    },
    {
      "cell_type": "code",
      "source": [
        "query = ''' \n",
        "\n",
        " SELECT \n",
        "   subject_id\n",
        "   , hadm_id\n",
        "    , stay_id\n",
        "    , los\n",
        "  FROM physionet-data.mimiciv_icu.icustays \n",
        "ORDER BY subject_id, hadm_id, stay_id\n",
        "'''\n",
        "icu_los = run_query(query)\n",
        "\n",
        "icu_los.head(5)"
      ],
      "metadata": {
        "id": "mUiEXCwizPLr"
      },
      "execution_count": null,
      "outputs": []
    },
    {
      "cell_type": "code",
      "source": [
        "icu_los.to_csv('icu_los.csv')\n",
        "files.download('icu_los.csv')"
      ],
      "metadata": {
        "id": "aRQvRnLLfnfC"
      },
      "execution_count": null,
      "outputs": []
    },
    {
      "cell_type": "code",
      "source": [
        "query = ''' \n",
        "\n",
        " SELECT \n",
        "   subject_id\n",
        "   , hadm_id\n",
        "\n",
        "    , hospital_expire_flag\n",
        "  FROM physionet-data.mimiciv_hosp.admissions\n",
        "ORDER BY subject_id, hadm_id\n",
        "'''\n",
        "hosp_mort = run_query(query)\n",
        "\n",
        "hosp_mort.head(5)"
      ],
      "metadata": {
        "id": "ZZKo0J5RfscW"
      },
      "execution_count": null,
      "outputs": []
    },
    {
      "cell_type": "code",
      "source": [
        "hosp_mort.to_csv('hosp_mort.csv')\n",
        "files.download('hosp_mort.csv')"
      ],
      "metadata": {
        "id": "5CrR4jsUhexK"
      },
      "execution_count": null,
      "outputs": []
    },
    {
      "cell_type": "code",
      "source": [
        "query = '''\n",
        "with height as (\n",
        "SELECT distinct stay_id, height FROM `physionet-data.mimiciv_derived.height` \n",
        ")\n",
        "\n",
        "select subject_id, hadm_id, ics.stay_id\n",
        "FROM `physionet-data.mimiciv_icu.icustays` ics, mv\n",
        "where ics.stay_id=mv.stay_id\n",
        "\n",
        "ORDER BY subject_id, ics.stay_id\n",
        "'''\n",
        "derived_MV = run_query(query)\n",
        "derived_MV.head()"
      ],
      "metadata": {
        "id": "3cQyQSstLL4A"
      },
      "execution_count": null,
      "outputs": []
    },
    {
      "cell_type": "code",
      "source": [
        "query = ''' \n",
        "with ethnicity as(\n",
        "  SELECT \n",
        "  subject_id,\n",
        "  race,\n",
        "  FROM physionet-data.mimiciv_hosp.admissions\n",
        "  )\n",
        "\n",
        "SELECT\n",
        "pts.subject_id, pts.gender,\n",
        "ethnicity.race\n",
        "FROM physionet-data.mimiciv_hosp.patients pts\n",
        "INNER JOIN ethnicity\n",
        "ON ethnicity.subject_id = pts.subject_id\n",
        "'''\n",
        "bmi = run_query(query)\n",
        "\n",
        "bmi.head(5)"
      ],
      "metadata": {
        "id": "smhIu00DNfkk"
      },
      "execution_count": null,
      "outputs": []
    },
    {
      "cell_type": "code",
      "source": [
        "gender_ethnicity = bmi\n",
        "gender_ethnicity.to_csv('gender_ethnicity.csv')\n",
        "files.download('gender_ethnicity.csv')"
      ],
      "metadata": {
        "id": "_Nlmhu5EQUbB"
      },
      "execution_count": null,
      "outputs": []
    },
    {
      "cell_type": "code",
      "source": [
        "query = ''' \n",
        " SELECT \n",
        "   subject_id, \n",
        "   chartdate,\n",
        "   result_value, \n",
        "\n",
        "  FROM physionet-data.mimiciv_hosp.omr\n",
        "  WHERE result_name = 'BMI (kg/m2)'\n",
        "'''\n",
        "bmi = run_query(query)\n",
        "\n",
        "bmi.head(5)"
      ],
      "metadata": {
        "id": "XcKvpBg7fAN_"
      },
      "execution_count": null,
      "outputs": []
    },
    {
      "cell_type": "code",
      "source": [
        "bmi.to_csv('bmi.csv')\n",
        "files.download('bmi.csv')"
      ],
      "metadata": {
        "id": "wtwkIX9fg1VY"
      },
      "execution_count": null,
      "outputs": []
    },
    {
      "cell_type": "code",
      "source": [
        "query = ''' \n",
        " SELECT \n",
        "   subject_id, \n",
        "   hadm_id,\n",
        "   stay_id, \n",
        "   intime, outtime,\n",
        "   los\n",
        "\n",
        "  FROM physionet-data.mimiciv_icu.icustays\n",
        "  ORDER BY subject_id, hadm_id, stay_id, intime\n",
        "'''\n",
        "stay_id = run_query(query)\n",
        "\n",
        "stay_id.head(5)"
      ],
      "metadata": {
        "id": "tNCF_cnjkiog"
      },
      "execution_count": null,
      "outputs": []
    },
    {
      "cell_type": "code",
      "source": [
        "stay_id.to_csv('stay_id.csv')\n",
        "files.download('stay_id.csv')"
      ],
      "metadata": {
        "id": "0FYxEer0oHv4"
      },
      "execution_count": null,
      "outputs": []
    },
    {
      "cell_type": "code",
      "source": [
        "query = ''' \n",
        " SELECT \n",
        "   subject_id, \n",
        "   stay_id, \n",
        "   charttime,\n",
        "   respiratory_rate_total,\n",
        "   minute_volume,\n",
        "   tidal_volume_observed,\n",
        "   plateau_pressure,\n",
        "   peep,\n",
        "   fio2,\n",
        "   ventilator_mode\n",
        "\n",
        "  FROM physionet-data.mimiciv_derived.ventilator_setting\n",
        "  ORDER BY subject_id, stay_id, charttime\n",
        "'''\n",
        "physiology = run_query(query)\n",
        "\n",
        "physiology.head(5)"
      ],
      "metadata": {
        "id": "OCUZw5TI69X9"
      },
      "execution_count": null,
      "outputs": []
    },
    {
      "cell_type": "code",
      "source": [
        "physiology.to_csv('physiology.csv')\n",
        "files.download('physiology.csv')"
      ],
      "metadata": {
        "id": "ggSCblB08_j2"
      },
      "execution_count": null,
      "outputs": []
    },
    {
      "cell_type": "code",
      "source": [
        "query = ''' \n",
        "\n",
        "SELECT\n",
        "oasis.subject_id, \n",
        "oasis.hadm_id,\n",
        "oasis.stay_id,\n",
        "oasis.oasis,\n",
        "oasis.oasis_prob,\n",
        "\n",
        "FROM physionet-data.mimiciv_derived.oasis oasis\n",
        "'''\n",
        "oasis_score = run_query(query)\n",
        "\n",
        "oasis_score.head(5)"
      ],
      "metadata": {
        "id": "ml_TO11l9pnR"
      },
      "execution_count": null,
      "outputs": []
    },
    {
      "cell_type": "code",
      "source": [
        "oasis_score.to_csv('oasis_scores.csv')\n",
        "files.download('oasis_scores.csv')"
      ],
      "metadata": {
        "id": "XtMevJrMAbRx"
      },
      "execution_count": null,
      "outputs": []
    },
    {
      "cell_type": "code",
      "source": [
        "\n",
        "query = ''' \n",
        "\n",
        "  SELECT \n",
        "*\n",
        "  FROM physionet-data.mimiciv_derived.apsiii\n",
        "'''\n",
        "apsiii_score = run_query(query)\n",
        "\n",
        "apsiii_score.head(5)"
      ],
      "metadata": {
        "id": "KOsSblsABQ_e"
      },
      "execution_count": null,
      "outputs": []
    },
    {
      "cell_type": "code",
      "source": [
        "apsiii_score.to_csv('apsiii_score.csv')\n",
        "files.download('apsiii_score.csv')"
      ],
      "metadata": {
        "id": "koXXMFZnBnG8"
      },
      "execution_count": null,
      "outputs": []
    },
    {
      "cell_type": "code",
      "source": [
        "\n",
        "query = ''' \n",
        "\n",
        "  SELECT \n",
        "stay_id,\n",
        "starttime,\n",
        "endtime\n",
        "  FROM physionet-data.mimiciv_derived.ventilation\n",
        "  WHERE ventilation_status='InvasiveVent'\n",
        "'''\n",
        "lomv = run_query(query)\n",
        "\n",
        "lomv.head(5)"
      ],
      "metadata": {
        "id": "vnWLgdkw0Fot"
      },
      "execution_count": null,
      "outputs": []
    },
    {
      "cell_type": "code",
      "source": [
        "lomv.to_csv('lomv.csv')\n",
        "files.download('lomv.csv')"
      ],
      "metadata": {
        "id": "rMZW5wNe1r7G"
      },
      "execution_count": null,
      "outputs": []
    },
    {
      "cell_type": "code",
      "source": [
        "query='''\n",
        "\n",
        "SELECT\n",
        "w.stay_id,\n",
        "starttime,\n",
        "weight,\n",
        "weight_type,\n",
        "\n",
        "FROM physionet-data.mimiciv_derived.weight_durations w\n",
        "\n",
        "ORDER BY w.stay_id\n",
        "'''\n",
        "hw = run_query(query)\n",
        "hw.head(5)"
      ],
      "metadata": {
        "id": "rZZP8v5x1urZ"
      },
      "execution_count": null,
      "outputs": []
    },
    {
      "cell_type": "code",
      "source": [
        "hw.to_csv('weight.csv')\n",
        "files.download('weight.csv')"
      ],
      "metadata": {
        "id": "SMDhS8_K3Z_C"
      },
      "execution_count": null,
      "outputs": []
    },
    {
      "cell_type": "code",
      "source": [
        "query='''\n",
        "\n",
        "  SELECT\n",
        "*\n",
        "\n",
        "  FROM physionet-data.mimiciv_derived.height\n",
        "\n",
        "ORDER BY stay_id\n",
        "'''\n",
        "height = run_query(query)\n",
        "height.head(5)"
      ],
      "metadata": {
        "id": "by49z7mjE5CP"
      },
      "execution_count": null,
      "outputs": []
    },
    {
      "cell_type": "code",
      "source": [
        "height.to_csv('height.csv')\n",
        "files.download('height.csv')"
      ],
      "metadata": {
        "id": "aGYFPviRFRvo"
      },
      "execution_count": null,
      "outputs": []
    },
    {
      "cell_type": "code",
      "source": [
        "query='''\n",
        "\n",
        "  SELECT\n",
        "*\n",
        "\n",
        "  FROM physionet-data.mimiciv_derived.charlson\n",
        "\n",
        "ORDER BY subject_id, hadm_id\n",
        "'''\n",
        "comorb = run_query(query)\n",
        "comorb.head(5)"
      ],
      "metadata": {
        "id": "8q9nXoOhGDHz"
      },
      "execution_count": null,
      "outputs": []
    },
    {
      "cell_type": "code",
      "source": [
        "comorb.to_csv('comorb.csv')\n",
        "files.download('comorb.csv')"
      ],
      "metadata": {
        "id": "W3XeXPqLGOi-"
      },
      "execution_count": null,
      "outputs": []
    },
    {
      "cell_type": "code",
      "source": [
        "query = '''\n",
        "With icd as\n",
        "(SELECT\n",
        "icd_code, long_title\n",
        "\n",
        "FROM `physionet-data.mimiciv_hosp.d_icd_diagnoses`)\n",
        "\n",
        "SELECT\n",
        "di.hadm_id,\n",
        "icd.long_title\n",
        "From physionet-data.mimiciv_hosp.diagnoses_icd di\n",
        "INNER JOIN icd\n",
        "ON di.icd_code = icd.icd_code\n",
        "\n",
        "'''\n",
        "\n",
        "diagnoses = run_query(query)\n",
        "diagnoses.head(5)"
      ],
      "metadata": {
        "id": "mYHaZCCRM2R0"
      },
      "execution_count": null,
      "outputs": []
    },
    {
      "cell_type": "code",
      "source": [
        "diagnoses.to_csv('diagnoses.csv')\n",
        "files.download('diagnoses.csv')"
      ],
      "metadata": {
        "id": "AJbfCE_TayK4"
      },
      "execution_count": null,
      "outputs": []
    },
    {
      "cell_type": "code",
      "source": [
        "query= '''\n",
        "WITH diag AS (\n",
        "    SELECT\n",
        "        hadm_id\n",
        "        , CASE WHEN icd_version = 9 THEN icd_code ELSE NULL END AS icd9_code\n",
        "        , CASE WHEN icd_version = 10 THEN icd_code ELSE NULL END AS icd10_code\n",
        "    FROM `physionet-data.mimiciv_hosp.diagnoses_icd`\n",
        ")\n",
        "\n",
        ", com AS (\n",
        "    SELECT\n",
        "        ad.hadm_id\n",
        "\n",
        "        -- Myocardial infarction\n",
        "        , MAX(CASE WHEN\n",
        "            SUBSTR(icd9_code, 1, 3) IN ('410', '412')\n",
        "            OR\n",
        "            SUBSTR(icd10_code, 1, 3) IN ('I21', 'I22')\n",
        "            OR\n",
        "            SUBSTR(icd10_code, 1, 4) = 'I252'\n",
        "            THEN 1\n",
        "            ELSE 0 END) AS myocardial_infarct\n",
        "\n",
        "        -- Congestive heart failure\n",
        "        , MAX(CASE WHEN\n",
        "            SUBSTR(icd9_code, 1, 3) = '428'\n",
        "            OR\n",
        "            SUBSTR(\n",
        "                icd9_code, 1, 5\n",
        "            ) IN ('39891', '40201', '40211', '40291', '40401', '40403'\n",
        "                , '40411', '40413', '40491', '40493')\n",
        "            OR\n",
        "            SUBSTR(icd9_code, 1, 4) BETWEEN '4254' AND '4259'\n",
        "            OR\n",
        "            SUBSTR(icd10_code, 1, 3) IN ('I43', 'I50')\n",
        "            OR\n",
        "            SUBSTR(\n",
        "                icd10_code, 1, 4\n",
        "            ) IN ('I099', 'I110', 'I130', 'I132', 'I255', 'I420'\n",
        "                  , 'I425', 'I426', 'I427', 'I428', 'I429', 'P290'\n",
        "            )\n",
        "            THEN 1\n",
        "            ELSE 0 END) AS congestive_heart_failure\n",
        "\n",
        "        -- Peripheral vascular disease\n",
        "        , MAX(CASE WHEN\n",
        "            SUBSTR(icd9_code, 1, 3) IN ('440', '441')\n",
        "            OR\n",
        "            SUBSTR(\n",
        "                icd9_code, 1, 4\n",
        "            ) IN ('0930', '4373', '4471', '5571', '5579', 'V434')\n",
        "            OR\n",
        "            SUBSTR(icd9_code, 1, 4) BETWEEN '4431' AND '4439'\n",
        "            OR\n",
        "            SUBSTR(icd10_code, 1, 3) IN ('I70', 'I71')\n",
        "            OR\n",
        "            SUBSTR(icd10_code, 1, 4) IN ('I731', 'I738', 'I739', 'I771', 'I790'\n",
        "                                         , 'I792'\n",
        "                                         , 'K551'\n",
        "                                         , 'K558'\n",
        "                                         , 'K559'\n",
        "                                         , 'Z958'\n",
        "                                         , 'Z959'\n",
        "            )\n",
        "            THEN 1\n",
        "            ELSE 0 END) AS peripheral_vascular_disease\n",
        "\n",
        "        -- Cerebrovascular disease\n",
        "        , MAX(CASE WHEN\n",
        "            SUBSTR(icd9_code, 1, 3) BETWEEN '430' AND '438'\n",
        "            OR\n",
        "            SUBSTR(icd9_code, 1, 5) = '36234'\n",
        "            OR\n",
        "            SUBSTR(icd10_code, 1, 3) IN ('G45', 'G46')\n",
        "            OR\n",
        "            SUBSTR(icd10_code, 1, 3) BETWEEN 'I60' AND 'I69'\n",
        "            OR\n",
        "            SUBSTR(icd10_code, 1, 4) = 'H340'\n",
        "            THEN 1\n",
        "            ELSE 0 END) AS cerebrovascular_disease\n",
        "\n",
        "        -- Dementia\n",
        "        , MAX(CASE WHEN\n",
        "            SUBSTR(icd9_code, 1, 3) = '290'\n",
        "            OR\n",
        "            SUBSTR(icd9_code, 1, 4) IN ('2941', '3312')\n",
        "            OR\n",
        "            SUBSTR(icd10_code, 1, 3) IN ('F00', 'F01', 'F02', 'F03', 'G30')\n",
        "            OR\n",
        "            SUBSTR(icd10_code, 1, 4) IN ('F051', 'G311')\n",
        "            THEN 1\n",
        "            ELSE 0 END) AS dementia\n",
        "\n",
        "        -- Chronic pulmonary disease\n",
        "        , MAX(CASE WHEN\n",
        "            SUBSTR(icd9_code, 1, 3) BETWEEN '490' AND '505'\n",
        "            OR\n",
        "            SUBSTR(icd9_code, 1, 4) IN ('4168', '4169', '5064', '5081', '5088')\n",
        "            OR\n",
        "            SUBSTR(icd10_code, 1, 3) BETWEEN 'J40' AND 'J47'\n",
        "            OR\n",
        "            SUBSTR(icd10_code, 1, 3) BETWEEN 'J60' AND 'J67'\n",
        "            OR\n",
        "            SUBSTR(icd10_code, 1, 4) IN ('I278', 'I279', 'J684', 'J701', 'J703')\n",
        "            THEN 1\n",
        "            ELSE 0 END) AS chronic_pulmonary_disease\n",
        "\n",
        "        -- Rheumatic disease\n",
        "        , MAX(CASE WHEN\n",
        "            SUBSTR(icd9_code, 1, 3) = '725'\n",
        "            OR\n",
        "            SUBSTR(icd9_code, 1, 4) IN ('4465', '7100', '7101', '7102', '7103'\n",
        "                                        , '7104', '7140', '7141', '7142', '7148'\n",
        "            )\n",
        "            OR\n",
        "            SUBSTR(icd10_code, 1, 3) IN ('M05', 'M06', 'M32', 'M33', 'M34')\n",
        "            OR\n",
        "            SUBSTR(icd10_code, 1, 4) IN ('M315', 'M351', 'M353', 'M360')\n",
        "            THEN 1\n",
        "            ELSE 0 END) AS rheumatic_disease\n",
        "\n",
        "        -- Peptic ulcer disease\n",
        "        , MAX(CASE WHEN\n",
        "            SUBSTR(icd9_code, 1, 3) IN ('531', '532', '533', '534')\n",
        "            OR\n",
        "            SUBSTR(icd10_code, 1, 3) IN ('K25', 'K26', 'K27', 'K28')\n",
        "            THEN 1\n",
        "            ELSE 0 END) AS peptic_ulcer_disease\n",
        "\n",
        "        -- Mild liver disease\n",
        "        , MAX(CASE WHEN\n",
        "            SUBSTR(icd9_code, 1, 3) IN ('570', '571')\n",
        "            OR\n",
        "            SUBSTR(\n",
        "                icd9_code, 1, 4\n",
        "            ) IN ('0706', '0709', '5733', '5734', '5738', '5739', 'V427')\n",
        "            OR\n",
        "            SUBSTR(\n",
        "                icd9_code, 1, 5\n",
        "            ) IN ('07022', '07023', '07032', '07033', '07044', '07054')\n",
        "            OR\n",
        "            SUBSTR(icd10_code, 1, 3) IN ('B18', 'K73', 'K74')\n",
        "            OR\n",
        "            SUBSTR(\n",
        "                icd10_code, 1, 4\n",
        "            ) IN ('K700', 'K701', 'K702', 'K703', 'K709', 'K713'\n",
        "                  , 'K714', 'K715', 'K717', 'K760', 'K762'\n",
        "                  , 'K763', 'K764', 'K768', 'K769', 'Z944')\n",
        "            THEN 1\n",
        "            ELSE 0 END) AS mild_liver_disease\n",
        "\n",
        "        -- Diabetes without chronic complication\n",
        "        , MAX(CASE WHEN\n",
        "            SUBSTR(\n",
        "                icd9_code, 1, 4\n",
        "            ) IN ('2500', '2501', '2502', '2503', '2508', '2509')\n",
        "            OR\n",
        "            SUBSTR(\n",
        "                icd10_code, 1, 4\n",
        "            ) IN ('E100', 'E101', 'E106', 'E108', 'E109', 'E110', 'E111'\n",
        "                  , 'E116'\n",
        "                  , 'E118'\n",
        "                  , 'E119'\n",
        "                  , 'E120'\n",
        "                  , 'E121'\n",
        "                  , 'E126'\n",
        "                  , 'E128'\n",
        "                  , 'E129'\n",
        "                  , 'E130'\n",
        "                  , 'E131'\n",
        "                  , 'E136'\n",
        "                  , 'E138'\n",
        "                  , 'E139'\n",
        "                  , 'E140'\n",
        "                  , 'E141', 'E146', 'E148', 'E149')\n",
        "            THEN 1\n",
        "            ELSE 0 END) AS diabetes_without_cc\n",
        "\n",
        "        -- Diabetes with chronic complication\n",
        "        , MAX(CASE WHEN\n",
        "            SUBSTR(icd9_code, 1, 4) IN ('2504', '2505', '2506', '2507')\n",
        "            OR\n",
        "            SUBSTR(\n",
        "                icd10_code, 1, 4\n",
        "            ) IN ('E102', 'E103', 'E104', 'E105', 'E107', 'E112', 'E113'\n",
        "                  , 'E114'\n",
        "                  , 'E115'\n",
        "                  , 'E117'\n",
        "                  , 'E122'\n",
        "                  , 'E123'\n",
        "                  , 'E124'\n",
        "                  , 'E125'\n",
        "                  , 'E127'\n",
        "                  , 'E132'\n",
        "                  , 'E133'\n",
        "                  , 'E134'\n",
        "                  , 'E135'\n",
        "                  , 'E137'\n",
        "                  , 'E142'\n",
        "                  , 'E143', 'E144', 'E145', 'E147')\n",
        "            THEN 1\n",
        "            ELSE 0 END) AS diabetes_with_cc\n",
        "\n",
        "        -- Hemiplegia or paraplegia\n",
        "        , MAX(CASE WHEN\n",
        "            SUBSTR(icd9_code, 1, 3) IN ('342', '343')\n",
        "            OR\n",
        "            SUBSTR(icd9_code, 1, 4) IN ('3341', '3440', '3441', '3442'\n",
        "                                        , '3443', '3444', '3445', '3446', '3449'\n",
        "            )\n",
        "            OR\n",
        "            SUBSTR(icd10_code, 1, 3) IN ('G81', 'G82')\n",
        "            OR\n",
        "            SUBSTR(icd10_code, 1, 4) IN ('G041', 'G114', 'G801', 'G802', 'G830'\n",
        "                                         , 'G831'\n",
        "                                         , 'G832'\n",
        "                                         , 'G833'\n",
        "                                         , 'G834'\n",
        "                                         , 'G839'\n",
        "            )\n",
        "            THEN 1\n",
        "            ELSE 0 END) AS paraplegia\n",
        "\n",
        "        -- Renal disease\n",
        "        , MAX(CASE WHEN\n",
        "            SUBSTR(icd9_code, 1, 3) IN ('582', '585', '586', 'V56')\n",
        "            OR\n",
        "            SUBSTR(icd9_code, 1, 4) IN ('5880', 'V420', 'V451')\n",
        "            OR\n",
        "            SUBSTR(icd9_code, 1, 4) BETWEEN '5830' AND '5837'\n",
        "            OR\n",
        "            SUBSTR(\n",
        "                icd9_code, 1, 5\n",
        "            ) IN (\n",
        "                '40301'\n",
        "                , '40311'\n",
        "                , '40391'\n",
        "                , '40402'\n",
        "                , '40403'\n",
        "                , '40412'\n",
        "                , '40413'\n",
        "                , '40492'\n",
        "                , '40493'\n",
        "            )\n",
        "            OR\n",
        "            SUBSTR(icd10_code, 1, 3) IN ('N18', 'N19')\n",
        "            OR\n",
        "            SUBSTR(icd10_code, 1, 4) IN ('I120', 'I131', 'N032', 'N033', 'N034'\n",
        "                                         , 'N035'\n",
        "                                         , 'N036'\n",
        "                                         , 'N037'\n",
        "                                         , 'N052'\n",
        "                                         , 'N053'\n",
        "                                         , 'N054'\n",
        "                                         , 'N055'\n",
        "                                         , 'N056'\n",
        "                                         , 'N057'\n",
        "                                         , 'N250'\n",
        "                                         , 'Z490'\n",
        "                                         , 'Z491'\n",
        "                                         , 'Z492'\n",
        "                                         , 'Z940'\n",
        "                                         , 'Z992'\n",
        "            )\n",
        "            THEN 1\n",
        "            ELSE 0 END) AS renal_disease\n",
        "\n",
        "        -- Any malignancy, including lymphoma and leukemia,\n",
        "        -- except malignant neoplasm of skin.\n",
        "        , MAX(CASE WHEN\n",
        "            SUBSTR(icd9_code, 1, 3) BETWEEN '140' AND '172'\n",
        "            OR\n",
        "            SUBSTR(icd9_code, 1, 4) BETWEEN '1740' AND '1958'\n",
        "            OR\n",
        "            SUBSTR(icd9_code, 1, 3) BETWEEN '200' AND '208'\n",
        "            OR\n",
        "            SUBSTR(icd9_code, 1, 4) = '2386'\n",
        "            OR\n",
        "            SUBSTR(icd10_code, 1, 3) IN ('C43', 'C88')\n",
        "            OR\n",
        "            SUBSTR(icd10_code, 1, 3) BETWEEN 'C00' AND 'C26'\n",
        "            OR\n",
        "            SUBSTR(icd10_code, 1, 3) BETWEEN 'C30' AND 'C34'\n",
        "            OR\n",
        "            SUBSTR(icd10_code, 1, 3) BETWEEN 'C37' AND 'C41'\n",
        "            OR\n",
        "            SUBSTR(icd10_code, 1, 3) BETWEEN 'C45' AND 'C58'\n",
        "            OR\n",
        "            SUBSTR(icd10_code, 1, 3) BETWEEN 'C60' AND 'C76'\n",
        "            OR\n",
        "            SUBSTR(icd10_code, 1, 3) BETWEEN 'C81' AND 'C85'\n",
        "            OR\n",
        "            SUBSTR(icd10_code, 1, 3) BETWEEN 'C90' AND 'C97'\n",
        "            THEN 1\n",
        "            ELSE 0 END) AS malignant_cancer\n",
        "\n",
        "        -- Moderate or severe liver disease\n",
        "        , MAX(CASE WHEN\n",
        "            SUBSTR(icd9_code, 1, 4) IN ('4560', '4561', '4562')\n",
        "            OR\n",
        "            SUBSTR(icd9_code, 1, 4) BETWEEN '5722' AND '5728'\n",
        "            OR\n",
        "            SUBSTR(\n",
        "                icd10_code, 1, 4\n",
        "            ) IN ('I850', 'I859', 'I864', 'I982', 'K704', 'K711'\n",
        "                  , 'K721', 'K729', 'K765', 'K766', 'K767')\n",
        "            THEN 1\n",
        "            ELSE 0 END) AS severe_liver_disease\n",
        "\n",
        "        -- Metastatic solid tumor\n",
        "        , MAX(CASE WHEN\n",
        "            SUBSTR(icd9_code, 1, 3) IN ('196', '197', '198', '199')\n",
        "            OR\n",
        "            SUBSTR(icd10_code, 1, 3) IN ('C77', 'C78', 'C79', 'C80')\n",
        "            THEN 1\n",
        "            ELSE 0 END) AS metastatic_solid_tumor\n",
        "\n",
        "        -- AIDS/HIV\n",
        "        , MAX(CASE WHEN\n",
        "            SUBSTR(icd9_code, 1, 3) IN ('042', '043', '044')\n",
        "            OR\n",
        "            SUBSTR(icd10_code, 1, 3) IN ('B20', 'B21', 'B22', 'B24')\n",
        "            THEN 1\n",
        "            ELSE 0 END) AS aids\n",
        "    FROM `physionet-data.mimiciv_hosp.admissions` ad\n",
        "    LEFT JOIN diag\n",
        "        ON ad.hadm_id = diag.hadm_id\n",
        "    GROUP BY ad.hadm_id\n",
        ")\n",
        "\n",
        ", ag AS (\n",
        "    SELECT\n",
        "        hadm_id\n",
        "        , age\n",
        "        , CASE WHEN age <= 50 THEN 0\n",
        "            WHEN age <= 60 THEN 1\n",
        "            WHEN age <= 70 THEN 2\n",
        "            WHEN age <= 80 THEN 3\n",
        "            ELSE 4 END AS age_score\n",
        "    FROM `physionet-data.mimiciv_derived.age`\n",
        ")\n",
        "\n",
        "SELECT\n",
        "    ad.subject_id\n",
        "    , ad.hadm_id\n",
        "    , ag.age_score\n",
        "    , myocardial_infarct\n",
        "    , congestive_heart_failure\n",
        "    , peripheral_vascular_disease\n",
        "    , cerebrovascular_disease\n",
        "    , dementia\n",
        "    , chronic_pulmonary_disease\n",
        "    , rheumatic_disease\n",
        "    , peptic_ulcer_disease\n",
        "    , mild_liver_disease\n",
        "    , diabetes_without_cc\n",
        "    , diabetes_with_cc\n",
        "    , paraplegia\n",
        "    , renal_disease\n",
        "    , malignant_cancer\n",
        "    , severe_liver_disease\n",
        "    , metastatic_solid_tumor\n",
        "    , aids\n",
        "    -- Calculate the Charlson Comorbidity Score using the original\n",
        "    -- weights from Charlson, 1987.\n",
        "    , age_score\n",
        "    + myocardial_infarct + congestive_heart_failure\n",
        "    + peripheral_vascular_disease + cerebrovascular_disease\n",
        "    + dementia + chronic_pulmonary_disease\n",
        "    + rheumatic_disease + peptic_ulcer_disease\n",
        "    + GREATEST(mild_liver_disease, 3 * severe_liver_disease)\n",
        "    + GREATEST(2 * diabetes_with_cc, diabetes_without_cc)\n",
        "    + GREATEST(2 * malignant_cancer, 6 * metastatic_solid_tumor)\n",
        "    + 2 * paraplegia + 2 * renal_disease\n",
        "    + 6 * aids\n",
        "    AS charlson_comorbidity_index\n",
        "FROM `physionet-data.mimiciv_hosp.admissions` ad\n",
        "LEFT JOIN com\n",
        "    ON ad.hadm_id = com.hadm_id\n",
        "LEFT JOIN ag\n",
        "    ON com.hadm_id = ag.hadm_id\n",
        "\n",
        "'''\n",
        "\n",
        "comorb = run_query(query)\n",
        "comorb.head(5)"
      ],
      "metadata": {
        "id": "o8fIu2OsOatt"
      },
      "execution_count": null,
      "outputs": []
    },
    {
      "cell_type": "code",
      "source": [
        "comorb.to_csv('comorb2.csv')\n",
        "files.download('comorb2.csv')"
      ],
      "metadata": {
        "id": "qCBayVGrOj1q"
      },
      "execution_count": null,
      "outputs": []
    },
    {
      "cell_type": "code",
      "source": [
        "query= '''\n",
        "SELECT ie.subject_id, ie.hadm_id, ie.stay_id\n",
        "\n",
        "    -- patient level factors\n",
        "    , pat.gender, pat.dod\n",
        "\n",
        "    -- hospital level factors\n",
        "    , adm.admittime, adm.dischtime\n",
        "    , DATETIME_DIFF(adm.dischtime, adm.admittime, DAY) AS los_hospital\n",
        "    -- calculate the age as anchor_age (60) plus difference between\n",
        "    -- admit year and the anchor year.\n",
        "    -- the noqa retains the extra long line so the \n",
        "    -- convert to postgres bash script works\n",
        "    , pat.anchor_age + DATETIME_DIFF(adm.admittime, DATETIME(pat.anchor_year, 1, 1, 0, 0, 0), YEAR) AS admission_age -- noqa: L016\n",
        "    , adm.race\n",
        "    , adm.hospital_expire_flag\n",
        "    , DENSE_RANK() OVER (\n",
        "        PARTITION BY adm.subject_id ORDER BY adm.admittime\n",
        "    ) AS hospstay_seq\n",
        "    , CASE\n",
        "        WHEN\n",
        "            DENSE_RANK() OVER (\n",
        "                PARTITION BY adm.subject_id ORDER BY adm.admittime\n",
        "            ) = 1 THEN True\n",
        "        ELSE False END AS first_hosp_stay\n",
        "\n",
        "    -- icu level factors\n",
        "    , ie.intime AS icu_intime, ie.outtime AS icu_outtime\n",
        "    , ROUND(\n",
        "        CAST(DATETIME_DIFF(ie.outtime, ie.intime, HOUR) / 24.0 AS NUMERIC), 2\n",
        "    ) AS los_icu\n",
        "    , DENSE_RANK() OVER (\n",
        "        PARTITION BY ie.hadm_id ORDER BY ie.intime\n",
        "    ) AS icustay_seq\n",
        "\n",
        "    -- first ICU stay *for the current hospitalization*\n",
        "    , CASE\n",
        "        WHEN\n",
        "            DENSE_RANK() OVER (\n",
        "                PARTITION BY ie.hadm_id ORDER BY ie.intime\n",
        "            ) = 1 THEN True\n",
        "        ELSE False END AS first_icu_stay\n",
        "\n",
        "FROM `physionet-data.mimiciv_icu.icustays` ie\n",
        "INNER JOIN `physionet-data.mimiciv_hosp.admissions` adm\n",
        "    ON ie.hadm_id = adm.hadm_id\n",
        "INNER JOIN `physionet-data.mimiciv_hosp.patients` pat\n",
        "    ON ie.subject_id = pat.subject_id\n",
        "\n",
        "'''\n",
        "\n",
        "icu_detail= run_query(query)\n",
        "icu_detail.head(5)"
      ],
      "metadata": {
        "id": "luowG5_HTMYe"
      },
      "execution_count": null,
      "outputs": []
    },
    {
      "cell_type": "code",
      "source": [
        "icu_detail.to_csv('icu_detail.csv')\n",
        "files.download('icu_detail.csv')"
      ],
      "metadata": {
        "id": "u-uOkofQTVFk"
      },
      "execution_count": null,
      "outputs": []
    },
    {
      "cell_type": "code",
      "source": [
        "query = ''' \n",
        "\n",
        "  SELECT \n",
        "  stay_id, starttime, sofa_24hours\n",
        "  FROM physionet-data.mimiciv_derived.sofa\n",
        "\n",
        "'''\n",
        "sofa_score = run_query(query)\n",
        "\n",
        "sofa_score.head(5)"
      ],
      "metadata": {
        "id": "8AiHn1PiYA04"
      },
      "execution_count": null,
      "outputs": []
    },
    {
      "cell_type": "code",
      "source": [
        "sofa_score.to_csv('sofa_score.csv')\n",
        "files.download('sofa_score.csv')"
      ],
      "metadata": {
        "id": "yr0A3uzxYlqe"
      },
      "execution_count": null,
      "outputs": []
    },
    {
      "cell_type": "code",
      "source": [
        "query = ''' \n",
        "\n",
        "  SELECT \n",
        "sirs.stay_id, sirs.sirs\n",
        "  FROM physionet-data.mimiciv_derived.sirs sirs\n",
        "'''\n",
        "sirs_score = run_query(query)\n",
        "\n",
        "sirs_score.head(5)"
      ],
      "metadata": {
        "id": "MUN49hvAYxyL"
      },
      "execution_count": null,
      "outputs": []
    },
    {
      "cell_type": "code",
      "source": [
        "sirs_score.to_csv('sirs_score.csv')\n",
        "files.download('sirs_score.csv')"
      ],
      "metadata": {
        "id": "k1fi6VhNY4n2"
      },
      "execution_count": null,
      "outputs": []
    },
    {
      "cell_type": "code",
      "source": [
        "query = ''' \n",
        "\n",
        "  SELECT \n",
        "*\n",
        "  FROM `physionet-data.mimiciv_derived.vasoactive_agent`\n",
        "'''\n",
        "vasoactive = run_query(query)\n",
        "\n",
        "vasoactive.head(5)"
      ],
      "metadata": {
        "id": "x_-5vnHoZh55"
      },
      "execution_count": null,
      "outputs": []
    },
    {
      "cell_type": "code",
      "source": [
        "vasoactive.to_csv('vasoactive.csv')\n",
        "files.download('vasoactive.csv')"
      ],
      "metadata": {
        "id": "wUOookZaA9_H"
      },
      "execution_count": null,
      "outputs": []
    },
    {
      "cell_type": "code",
      "source": [
        "query = ''' \n",
        "\n",
        "  SELECT \n",
        "*\n",
        "  FROM `physionet-data.mimiciv_derived.rrt`\n",
        "'''\n",
        "rrt = run_query(query)\n",
        "\n",
        "rrt.head(5)"
      ],
      "metadata": {
        "id": "4GVmp_bFD6zx"
      },
      "execution_count": null,
      "outputs": []
    },
    {
      "cell_type": "code",
      "source": [
        "rrt.to_csv('rrt.csv')\n",
        "files.download('rrt.csv')"
      ],
      "metadata": {
        "id": "yqr8muVqD9u_"
      },
      "execution_count": null,
      "outputs": []
    },
    {
      "cell_type": "code",
      "source": [],
      "metadata": {
        "id": "ypBZ5o1GEBX4"
      },
      "execution_count": null,
      "outputs": []
    }
  ]
}