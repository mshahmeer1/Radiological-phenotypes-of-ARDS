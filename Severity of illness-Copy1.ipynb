{
 "cells": [
  {
   "cell_type": "code",
   "execution_count": null,
   "id": "90db1d44",
   "metadata": {},
   "outputs": [],
   "source": [
    "import numpy as np\n",
    "import pandas as pd\n",
    "import matplotlib.pyplot as plt\n",
    "import pprint\n",
    "import os\n",
    "from sklearn.decomposition import PCA\n",
    "from sklearn.mixture import GaussianMixture\n",
    "from sklearn import metrics\n",
    "\n",
    "pd.set_option('display.max_colwidth',100000) #https://stackoverflow.com/questions/54692405/output-truncation-in-google-colab\n",
    "pd.set_option('display.max_rows', 100000)\n",
    "\n",
    "# Below imports are used to print out pretty pandas dataframes\n",
    "from IPython.display import display, HTML"
   ]
  },
  {
   "cell_type": "code",
   "execution_count": null,
   "id": "d10ba2dd",
   "metadata": {},
   "outputs": [],
   "source": [
    "basic_table = pd.read_pickle('Downloads/basic_table.pkl')\n",
    "apsiii = pd.read_csv('Downloads/apsiii_score.csv')\n",
    "oasis = pd.read_csv('Downloads/oasis_scores.csv')\n",
    "sofa = pd.read_csv('Downloads/sofa_score.csv')\n",
    "sirs = pd.read_csv('Downloads/sirs_score.csv')"
   ]
  },
  {
   "cell_type": "code",
   "execution_count": null,
   "id": "ead74f7c",
   "metadata": {},
   "outputs": [],
   "source": [
    "oasis.columns.values"
   ]
  },
  {
   "cell_type": "code",
   "execution_count": null,
   "id": "e1add437",
   "metadata": {},
   "outputs": [],
   "source": [
    "aspiii = apsiii.drop(['Unnamed: 0', 'hr_score', 'mbp_score', 'temp_score',\n",
    "       'resp_rate_score', 'pao2_aado2_score', 'hematocrit_score',\n",
    "       'wbc_score', 'creatinine_score', 'uo_score', 'bun_score',\n",
    "       'sodium_score', 'albumin_score', 'bilirubin_score',\n",
    "       'glucose_score', 'acidbase_score', 'gcs_score'], axis=1, inplace = True)\n",
    "oasis =oasis.drop(['Unnamed: 0'], axis=1)"
   ]
  },
  {
   "cell_type": "code",
   "execution_count": null,
   "id": "8596ec52",
   "metadata": {},
   "outputs": [],
   "source": [
    "apsiii.columns.values"
   ]
  },
  {
   "cell_type": "code",
   "execution_count": null,
   "id": "e5acb88b",
   "metadata": {},
   "outputs": [],
   "source": []
  },
  {
   "cell_type": "code",
   "execution_count": null,
   "id": "cb144aee",
   "metadata": {},
   "outputs": [],
   "source": [
    "scores = apsiii.merge(oasis, how='inner', on='stay_id')\n",
    "illness_severity = basic_table.merge(scores, how='inner', on='stay_id')\n",
    "illness_severity.head(5)"
   ]
  },
  {
   "cell_type": "code",
   "execution_count": null,
   "id": "652b1ccc",
   "metadata": {},
   "outputs": [],
   "source": [
    "print(len(illness_severity))\n",
    "illness_severity.columns.values"
   ]
  },
  {
   "cell_type": "code",
   "execution_count": null,
   "id": "14222c58",
   "metadata": {},
   "outputs": [],
   "source": [
    "illness_severity = illness_severity.drop(['los', 'subject_id_x_y', 'hadm_id_x', 'subject_id_y', 'hadm_id_y'], axis=1,)"
   ]
  },
  {
   "cell_type": "code",
   "execution_count": null,
   "id": "318a9edb",
   "metadata": {},
   "outputs": [],
   "source": [
    "print(type(illness_severity))"
   ]
  },
  {
   "cell_type": "code",
   "execution_count": null,
   "id": "3c5a828e",
   "metadata": {},
   "outputs": [],
   "source": [
    "illness_severity = illness_severity.sort_values(by=['label'])"
   ]
  },
  {
   "cell_type": "code",
   "execution_count": null,
   "id": "c82bbb8f",
   "metadata": {},
   "outputs": [],
   "source": [
    "illness_severity.head(5\n",
    "                     )"
   ]
  },
  {
   "cell_type": "code",
   "execution_count": null,
   "id": "ef6c00b0",
   "metadata": {},
   "outputs": [],
   "source": [
    "# illness_severity.to_excel('Downloads/illness_severity.xlsx')"
   ]
  },
  {
   "cell_type": "code",
   "execution_count": null,
   "id": "0465999c",
   "metadata": {},
   "outputs": [],
   "source": [
    "sirs = sirs.drop(['Unnamed: 0'], axis=1)\n",
    "sofa = sofa.drop(['Unnamed: 0'], axis=1)\n",
    "sirs.columns.values"
   ]
  },
  {
   "cell_type": "code",
   "execution_count": null,
   "id": "61e71339",
   "metadata": {},
   "outputs": [],
   "source": [
    "sir = basic_table.merge(sirs, how='left', on='stay_id')\n",
    "print(len(sir))"
   ]
  },
  {
   "cell_type": "code",
   "execution_count": null,
   "id": "44341a2c",
   "metadata": {},
   "outputs": [],
   "source": [
    "sofa.head(5)"
   ]
  },
  {
   "cell_type": "code",
   "execution_count": null,
   "id": "f25aed88",
   "metadata": {},
   "outputs": [],
   "source": [
    "from datetime import datetime\n",
    "def convert_time(x):\n",
    "  date_time_str = x\n",
    "  if date_time_str[-1] == ':':\n",
    "    date_time_str += '00'\n",
    "  date_time_obj = datetime.strptime(date_time_str, '%Y-%m-%d %H:%M:%S')\n",
    "  return date_time_obj\n",
    "sofa.starttime = sofa.starttime.apply(convert_time)\n",
    "basic_table.pO2_time = basic_table.pO2_time.apply(convert_time)"
   ]
  },
  {
   "cell_type": "code",
   "execution_count": null,
   "id": "925b9c2f",
   "metadata": {},
   "outputs": [],
   "source": [
    "time = pd.DataFrame({'stay_id': basic_table['stay_id'], 'pO2_time': basic_table['pO2_time'],\n",
    "                     'dicom':basic_table['dicom'] })\n",
    "phys = sofa.merge(time, how='right', on='stay_id')\n",
    "phys['time_diff'] = phys.pO2_time - phys.starttime\n",
    "phys['time_diff'] = phys['time_diff'].abs()\n",
    "phys['time_diff'] = phys['time_diff'] / pd.Timedelta(minutes=1)\n",
    "phys['min_time_diff'] = phys.groupby('dicom')['time_diff'].transform('min')\n",
    "\n",
    "phys = phys.where(phys['time_diff'] == phys['min_time_diff'])\n",
    "\n",
    "phys = phys[phys['dicom'].notna()]\n"
   ]
  },
  {
   "cell_type": "code",
   "execution_count": null,
   "id": "946937a1",
   "metadata": {},
   "outputs": [],
   "source": [
    "phys = phys.drop_duplicates(subset= 'dicom',ignore_index=True)\n",
    "phys = phys.reset_index()\n",
    "phys = phys.drop(['index', 'Unnamed: 0'], axis=1)"
   ]
  },
  {
   "cell_type": "code",
   "execution_count": null,
   "id": "68296398",
   "metadata": {},
   "outputs": [],
   "source": [
    "print(len(phys))\n",
    "print(phys['dicom'].nunique())\n",
    "print(phys['stay_id'].nunique())"
   ]
  },
  {
   "cell_type": "code",
   "execution_count": null,
   "id": "300ff1c0",
   "metadata": {},
   "outputs": [],
   "source": [
    "sofa_sirs = sir.merge(phys, how='inner', on='dicom')"
   ]
  },
  {
   "cell_type": "code",
   "execution_count": null,
   "id": "da7f8693",
   "metadata": {},
   "outputs": [],
   "source": [
    "sofa_sirs = sofa_sirs.drop(['index', 'time_diff', 'min_time_diff'], axis=1)"
   ]
  },
  {
   "cell_type": "code",
   "execution_count": null,
   "id": "119b02a1",
   "metadata": {},
   "outputs": [],
   "source": [
    "print(len(sofa_sirs))\n",
    "print(sofa_sirs['dicom'].nunique())\n",
    "print(sofa_sirs['stay_id_x'].nunique())"
   ]
  },
  {
   "cell_type": "code",
   "execution_count": null,
   "id": "f7bcffc0",
   "metadata": {},
   "outputs": [],
   "source": [
    "sofa_sirs.head(50)"
   ]
  },
  {
   "cell_type": "code",
   "execution_count": null,
   "id": "c5e8d062",
   "metadata": {},
   "outputs": [],
   "source": [
    "# sofa_sirs.to_excel('Downloads/sofa_sirs.xlsx')"
   ]
  },
  {
   "cell_type": "code",
   "execution_count": null,
   "id": "dd8525e2",
   "metadata": {},
   "outputs": [],
   "source": []
  },
  {
   "cell_type": "code",
   "execution_count": null,
   "id": "bdea0e42",
   "metadata": {},
   "outputs": [],
   "source": []
  },
  {
   "cell_type": "code",
   "execution_count": null,
   "id": "e382c1d9",
   "metadata": {},
   "outputs": [],
   "source": [
    "print(type(basic_table['tsne_features'].iloc[0]))"
   ]
  },
  {
   "cell_type": "code",
   "execution_count": null,
   "id": "d806f559",
   "metadata": {},
   "outputs": [],
   "source": [
    "tsne_features= basic_table[['tsne_features_xs','tsne_features_ys']].to_numpy()\n",
    "print(type(tsne_features[:,0]))"
   ]
  },
  {
   "cell_type": "code",
   "execution_count": null,
   "id": "45c87323",
   "metadata": {},
   "outputs": [],
   "source": [
    "from sklearn.cluster import KMeans\n",
    "wcss = []\n",
    "for i in range(1,11):\n",
    "    kmeans = KMeans(n_clusters=i, init = \"k-means++\", \n",
    "                   max_iter= 300, n_init=10)\n",
    "    kmeans.fit(tsne_features)\n",
    "    wcss.append(kmeans.inertia_)\n",
    "plt.plot(range(1,11), wcss, color='#377eb8')\n",
    "# plt.title(\"Elbow Method\")\n",
    "plt.xlabel(\"Number of clusters\", weight='bold', labelpad=10, size= 'x-large')\n",
    "plt.ylabel(\"Within-Cluster Sum of Square\\n(x10^6)\", weight='bold', labelpad=10, size='x-large')\n",
    "plt.axvline(x=4, color='#e41a1c', linestyle='--', linewidth='1')\n",
    "plt.axvline(x=6, color='#e41a1c', linestyle='--', linewidth='1')\n",
    "plt.xticks([0,1,2,3,4,5,6,7,8,9,10])\n",
    "plt.gca().get_xticklabels()[4].set_color(\"#e41a1c\")\n",
    "plt.gca().get_xticklabels()[4].set_weight(\"bold\")\n",
    "plt.gca().get_xticklabels()[5].set_color(\"#e41a1c\")\n",
    "plt.gca().get_xticklabels()[5].set_weight(\"bold\")\n",
    "plt.gca().get_xticklabels()[6].set_color(\"#e41a1c\")\n",
    "plt.gca().get_xticklabels()[6].set_weight(\"bold\")\n",
    "# plt.ticklabel_format(style='plain')\n",
    "# plt.savefig('Downloads/Elbow_method_tsne2.png', format='png', dpi=1200,bbox_inches='tight')\n",
    "plt.show()"
   ]
  },
  {
   "cell_type": "code",
   "execution_count": null,
   "id": "9c56c8b1",
   "metadata": {},
   "outputs": [],
   "source": [
    "# Select the 0th feature: xs\n",
    "xs = tsne_features[:,0]\n",
    "\n",
    "# Select the 1st feature: ys\n",
    "ys = tsne_features[:,1]"
   ]
  },
  {
   "cell_type": "code",
   "execution_count": null,
   "id": "41be2127",
   "metadata": {},
   "outputs": [],
   "source": [
    "from sklearn.cluster import KMeans\n",
    "model = KMeans(n_clusters=4)\n",
    "model.fit(tsne_features)\n",
    "label = model.predict(tsne_features)"
   ]
  },
  {
   "cell_type": "code",
   "execution_count": null,
   "id": "7fecfb36",
   "metadata": {},
   "outputs": [],
   "source": [
    "plt.scatter(xs,ys, alpha = 0.5, s=10, c=label,marker ='.')\n",
    "# plt.savefig('Downloads/c4_kmeans_tsne.png', format='png', dpi=1200)\n",
    "plt.show()"
   ]
  },
  {
   "cell_type": "code",
   "execution_count": null,
   "id": "18480554",
   "metadata": {},
   "outputs": [],
   "source": [
    "from sklearn.datasets import make_blobs\n",
    "from sklearn.cluster import KMeans\n",
    "from sklearn.metrics import silhouette_samples, silhouette_score\n",
    "\n",
    "import matplotlib.pyplot as plt\n",
    "import matplotlib.cm as cm\n",
    "import numpy as np\n",
    "\n",
    "X= tsne_features\n",
    "range_n_clusters = [2, 3, 4, 5, 6, 7, 8]\n",
    "\n",
    "for n_clusters in range_n_clusters:\n",
    "    # Create a subplot with 1 row and 2 columns\n",
    "    fig, (ax1, ax2) = plt.subplots(1, 2)\n",
    "    fig.set_size_inches(18, 7)\n",
    "\n",
    "    # The 1st subplot is the silhouette plot\n",
    "    # The silhouette coefficient can range from -1, 1 but in this example all\n",
    "    # lie within [-0.1, 1]\n",
    "    ax1.set_xlim([-0.1, 1])\n",
    "    # The (n_clusters+1)*10 is for inserting blank space between silhouette\n",
    "    # plots of individual clusters, to demarcate them clearly.\n",
    "    ax1.set_ylim([0, len(X) + (n_clusters + 1) * 10])\n",
    "\n",
    "    # Initialize the clusterer with n_clusters value and a random generator\n",
    "    # seed of 10 for reproducibility.\n",
    "    clusterer = KMeans(n_clusters=n_clusters, random_state=10)\n",
    "    cluster_labels = clusterer.fit_predict(X)\n",
    "\n",
    "    # The silhouette_score gives the average value for all the samples.\n",
    "    # This gives a perspective into the density and separation of the formed\n",
    "    # clusters\n",
    "    silhouette_avg = silhouette_score(X, cluster_labels)\n",
    "    print(\n",
    "        \"For n_clusters =\",\n",
    "        n_clusters,\n",
    "        \"The average silhouette_score is :\",\n",
    "        silhouette_avg,\n",
    "    )\n",
    "\n",
    "    # Compute the silhouette scores for each sample\n",
    "    sample_silhouette_values = silhouette_samples(X, cluster_labels)\n",
    "\n",
    "    y_lower = 10\n",
    "    for i in range(n_clusters):\n",
    "        # Aggregate the silhouette scores for samples belonging to\n",
    "        # cluster i, and sort them\n",
    "        ith_cluster_silhouette_values = sample_silhouette_values[cluster_labels == i]\n",
    "\n",
    "        ith_cluster_silhouette_values.sort()\n",
    "\n",
    "        size_cluster_i = ith_cluster_silhouette_values.shape[0]\n",
    "        y_upper = y_lower + size_cluster_i\n",
    "\n",
    "        color = cm.nipy_spectral(float(i) / n_clusters)\n",
    "        ax1.fill_betweenx(\n",
    "            np.arange(y_lower, y_upper),\n",
    "            0,\n",
    "            ith_cluster_silhouette_values,\n",
    "            facecolor=color,\n",
    "            edgecolor=color,\n",
    "            alpha=0.7,\n",
    "        )\n",
    "\n",
    "        # Label the silhouette plots with their cluster numbers at the middle\n",
    "        ax1.text(-0.05, y_lower + 0.5 * size_cluster_i, str(i))\n",
    "\n",
    "        # Compute the new y_lower for next plot\n",
    "        y_lower = y_upper + 10  # 10 for the 0 samples\n",
    "\n",
    "    ax1.set_title(\"The silhouette plot for the various clusters.\")\n",
    "    ax1.set_xlabel(\"The silhouette coefficient values\")\n",
    "    ax1.set_ylabel(\"Cluster label\")\n",
    "\n",
    "    # The vertical line for average silhouette score of all the values\n",
    "    ax1.axvline(x=silhouette_avg, color=\"red\", linestyle=\"--\")\n",
    "\n",
    "    ax1.set_yticks([])  # Clear the yaxis labels / ticks\n",
    "    ax1.set_xticks([-0.1, 0, 0.2, 0.4, 0.6, 0.8, 1])\n",
    "\n",
    "    # 2nd Plot showing the actual clusters formed\n",
    "    colors = cm.nipy_spectral(cluster_labels.astype(float) / n_clusters)\n",
    "    ax2.scatter(\n",
    "        X[:, 0], X[:, 1], marker=\".\", s=30, lw=0, alpha=0.7, c=colors, edgecolor=\"k\"\n",
    "    )\n",
    "\n",
    "    # Labeling the clusters\n",
    "    centers = clusterer.cluster_centers_\n",
    "    # Draw white circles at cluster centers\n",
    "    ax2.scatter(\n",
    "        centers[:, 0],\n",
    "        centers[:, 1],\n",
    "        marker=\"o\",\n",
    "        c=\"white\",\n",
    "        alpha=1,\n",
    "        s=200,\n",
    "        edgecolor=\"k\",\n",
    "    )\n",
    "\n",
    "    for i, c in enumerate(centers):\n",
    "        ax2.scatter(c[0], c[1], marker=\"$%d$\" % i, alpha=1, s=50, edgecolor=\"k\")\n",
    "\n",
    "    ax2.set_title(\"The visualization of the clustered data.\")\n",
    "    ax2.set_xlabel(\"Feature space for the 1st feature\")\n",
    "    ax2.set_ylabel(\"Feature space for the 2nd feature\")\n",
    "\n",
    "    plt.suptitle(\n",
    "        \"Silhouette analysis for KMeans clustering on sample data with n_clusters = %d\"\n",
    "        % n_clusters,\n",
    "        fontsize=14,\n",
    "        fontweight=\"bold\",\n",
    "    )\n",
    "#     plt.savefig('Downloads/kmeans_on_raw_data_silhouette_score_c='+ str(n_clusters)+'.png')\n",
    "plt.show()\n",
    "# for i in plt.get_fignums():\n",
    "#     plt.figure(i).savefig('/wherever/files/shall/roam/figure' + str(i) + '.png')"
   ]
  },
  {
   "cell_type": "code",
   "execution_count": null,
   "id": "538a21b4",
   "metadata": {},
   "outputs": [],
   "source": []
  }
 ],
 "metadata": {
  "kernelspec": {
   "display_name": "Python 3 (ipykernel)",
   "language": "python",
   "name": "python3"
  },
  "language_info": {
   "codemirror_mode": {
    "name": "ipython",
    "version": 3
   },
   "file_extension": ".py",
   "mimetype": "text/x-python",
   "name": "python",
   "nbconvert_exporter": "python",
   "pygments_lexer": "ipython3",
   "version": "3.9.13"
  }
 },
 "nbformat": 4,
 "nbformat_minor": 5
}
