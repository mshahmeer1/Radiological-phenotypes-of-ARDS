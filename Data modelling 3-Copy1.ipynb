{
 "cells": [
  {
   "cell_type": "code",
   "execution_count": null,
   "id": "a4660c73",
   "metadata": {},
   "outputs": [],
   "source": [
    "import numpy as np\n",
    "import pandas as pd\n",
    "import matplotlib.pyplot as plt\n",
    "import pprint\n",
    "import os\n",
    "from sklearn.decomposition import PCA\n",
    "from sklearn.mixture import GaussianMixture\n",
    "from sklearn import metrics\n",
    "\n",
    "pd.set_option('display.max_colwidth',100000) #https://stackoverflow.com/questions/54692405/output-truncation-in-google-colab\n",
    "pd.set_option('display.max_rows', 100000)\n",
    "\n",
    "# Below imports are used to print out pretty pandas dataframes\n",
    "from IPython.display import display, HTML"
   ]
  },
  {
   "cell_type": "code",
   "execution_count": null,
   "id": "86a44deb",
   "metadata": {},
   "outputs": [],
   "source": [
    "embeddings = pd.read_pickle('Downloads/embeddings.pkl')\n",
    "embeddings = embeddings.drop(['image/format'], \n",
    "               axis=1)\n",
    "\n",
    "print(len(embeddings['embedding']))\n",
    "print(type(embeddings['embedding']))\n",
    "print(type(embeddings['embedding'].iloc[2]))\n",
    "print(embeddings['embedding'].iloc[2].size)\n",
    "print(embeddings['Len'].nunique())\n",
    "\n",
    "embeddings['dicom']= embeddings['image/id'].str[61:-4]"
   ]
  },
  {
   "cell_type": "code",
   "execution_count": null,
   "id": "4f021bac",
   "metadata": {},
   "outputs": [],
   "source": [
    "array = embeddings['embedding'].tolist()\n",
    "array_of_arrays= np.stack(array , axis=0)"
   ]
  },
  {
   "cell_type": "code",
   "execution_count": null,
   "id": "70957c54",
   "metadata": {},
   "outputs": [],
   "source": [
    "pca = PCA()\n",
    "\n",
    "\n",
    "\n",
    "# Fit the pipeline to 'samples'\n",
    "pca.fit(array_of_arrays)\n",
    "\n",
    "# Plot the explained variances\n",
    "features = range(pca.n_components_)\n",
    "plt.bar(features, pca.explained_variance_)\n",
    "plt.xlabel('PCA feature')\n",
    "plt.ylabel('variance')\n",
    "plt.ylim(0,10)\n",
    "plt.xticks(features)\n",
    "\n",
    "plt.show()\n",
    "\n",
    "\n"
   ]
  },
  {
   "cell_type": "code",
   "execution_count": null,
   "id": "55fe9dd0",
   "metadata": {},
   "outputs": [],
   "source": [
    "print(pca.explained_variance_.cumsum())\n",
    "print(pca.explained_variance_ratio_.cumsum())"
   ]
  },
  {
   "cell_type": "code",
   "execution_count": null,
   "id": "9c7d2b3e",
   "metadata": {},
   "outputs": [],
   "source": [
    "cum_explained_var = []\n",
    "for i in range(0, len(pca.explained_variance_ratio_)):\n",
    "    if i == 0:\n",
    "        cum_explained_var.append(pca.explained_variance_ratio_[i])\n",
    "    else:\n",
    "        cum_explained_var.append(pca.explained_variance_ratio_[i] + \n",
    "                                 cum_explained_var[i-1])\n",
    "\n",
    "print(cum_explained_var)"
   ]
  },
  {
   "cell_type": "code",
   "execution_count": null,
   "id": "c92bf356",
   "metadata": {},
   "outputs": [],
   "source": [
    "x= np.array(cum_explained_var) \n",
    "y= x < 0.8\n",
    "print(len(np.where(y)[0]))"
   ]
  },
  {
   "cell_type": "code",
   "execution_count": null,
   "id": "3420967b",
   "metadata": {},
   "outputs": [],
   "source": [
    "# Import PCA\n",
    "from sklearn.decomposition import PCA\n",
    "\n",
    "# Create a PCA model with 2 components: pca\n",
    "pca = PCA(n_components=62)\n",
    "\n",
    "# Fit the PCA instance to the scaled samples\n",
    "pca.fit(array_of_arrays)\n",
    "\n",
    "# Transform the scaled samples: pca_features\n",
    "pca_features = pca.transform(array_of_arrays)"
   ]
  },
  {
   "cell_type": "code",
   "execution_count": null,
   "id": "9f94e86e",
   "metadata": {},
   "outputs": [],
   "source": [
    "from sklearn.cluster import KMeans\n",
    "wcss = []\n",
    "for i in range(1,11):\n",
    "    kmeans = KMeans(n_clusters=i, init = \"k-means++\", \n",
    "                   max_iter= 300, n_init=10)\n",
    "    kmeans.fit(pca_features)\n",
    "    wcss.append(kmeans.inertia_)\n",
    "plt.plot(range(1,11), wcss)\n",
    "plt.title(\"Elbow Method\")\n",
    "plt.xlabel(\"Number of clusters\")\n",
    "plt.ylabel(\"WCSS\")\n",
    "# plt.savefig('Downloads/Elbow_method')\n",
    "plt.show()"
   ]
  },
  {
   "cell_type": "code",
   "execution_count": null,
   "id": "1c836f7e",
   "metadata": {},
   "outputs": [],
   "source": [
    "# Import TSNE\n",
    "from sklearn.manifold import TSNE\n",
    "\n",
    "# Create a TSNE instance: model\n",
    "model = TSNE(learning_rate=250, perplexity=120)\n",
    "\n",
    "# Apply fit_transform to samples: tsne_features\n",
    "tsne_features = model.fit_transform(pca_features)\n",
    "\n",
    "# Select the 0th feature: xs\n",
    "xs = tsne_features[:,0]\n",
    "\n",
    "# Select the 1st feature: ys\n",
    "ys = tsne_features[:,1]"
   ]
  },
  {
   "cell_type": "code",
   "execution_count": null,
   "id": "ce9a2a71",
   "metadata": {},
   "outputs": [],
   "source": [
    "kmeans_labels450 = pd.read_pickle('Downloads/kmeans_labels450')\n",
    "kmeans_labels450.head(5)"
   ]
  },
  {
   "cell_type": "code",
   "execution_count": null,
   "id": "8f3bc398",
   "metadata": {},
   "outputs": [],
   "source": [
    "kmeans_labels450['tsne_features']= kmeans_labels450[['tsne_features_xs', 'tsne_features_ys' ]].values.tolist()\n",
    "kmeans_labels450.head(5)"
   ]
  },
  {
   "cell_type": "code",
   "execution_count": null,
   "id": "57cce62c",
   "metadata": {},
   "outputs": [],
   "source": [
    "tsne_list = kmeans_labels450['tsne_features'].tolist()\n",
    "tsne_array= np.stack(tsne_list , axis=0)"
   ]
  },
  {
   "cell_type": "code",
   "execution_count": null,
   "id": "e83d3086",
   "metadata": {},
   "outputs": [],
   "source": [
    "tsne_features = tsne_array"
   ]
  },
  {
   "cell_type": "code",
   "execution_count": null,
   "id": "c0fc297e",
   "metadata": {},
   "outputs": [],
   "source": [
    "from sklearn.cluster import KMeans\n",
    "model = KMeans(n_clusters=6)\n",
    "model.fit(tsne_features)\n",
    "label = model.predict(tsne_features)"
   ]
  },
  {
   "cell_type": "code",
   "execution_count": null,
   "id": "71ec2f12",
   "metadata": {},
   "outputs": [],
   "source": [
    "print(f\"Silhouette Coefficient: {metrics.silhouette_score(tsne_features, label):.3f}\")\n",
    "\n",
    "# The value of the silhouette coefﬁcient is between [-1, 1]. \n",
    "# A score of 1 denotes the best, meaning that the data point i is very compact within \n",
    "# the cluster to which it belongs and far away from the other clusters. \n",
    "# The worst value is -1. Values near 0 denote overlapping clusters"
   ]
  },
  {
   "cell_type": "code",
   "execution_count": null,
   "id": "96440097",
   "metadata": {},
   "outputs": [],
   "source": [
    "xs = kmeans_labels450['tsne_features_xs']\n",
    "ys = kmeans_labels450['tsne_features_ys']"
   ]
  },
  {
   "cell_type": "code",
   "execution_count": null,
   "id": "610333f7",
   "metadata": {
    "scrolled": true
   },
   "outputs": [],
   "source": [
    "plt.scatter(xs,ys, marker ='.', alpha = 0.5, s=10, c=label)\n",
    "plt.savefig('Downloads/kmeans_on_tsne_features_0.450.png', format='png', dpi=1200)\n",
    "plt.show()"
   ]
  },
  {
   "cell_type": "code",
   "execution_count": null,
   "id": "bba0fea4",
   "metadata": {},
   "outputs": [],
   "source": [
    "# kmeans_labels_c6 = label\n",
    "\n",
    "# kmeans_labels = pd.DataFrame({'embedding': embeddings['image/id'], 'label':label, 'dicom': embeddings['dicom'], 'tsne_features_xs':xs, 'tsne_features_ys':ys})\n",
    "\n",
    "# kmeans_labels.to_pickle('Downloads/kmeans_labels_0.449')"
   ]
  },
  {
   "cell_type": "code",
   "execution_count": null,
   "id": "a0044105",
   "metadata": {},
   "outputs": [],
   "source": [
    "cluster_centers =[\n",
    " [-13.855849    -2.757724  ]\n",
    " [ 30.886284   -12.211306  ]\n",
    " [ -6.2821727   22.937733  ]\n",
    " [ 11.552219     6.9363875 ]\n",
    " [  0.77422804 -25.492647  ]\n",
    " [-31.335146    15.596095  ]]"
   ]
  },
  {
   "cell_type": "code",
   "execution_count": null,
   "id": "a2b40378",
   "metadata": {},
   "outputs": [],
   "source": []
  },
  {
   "cell_type": "code",
   "execution_count": null,
   "id": "d2db990f",
   "metadata": {},
   "outputs": [],
   "source": [
    "df = kmeans_labels450.copy()\n",
    "df['c0'] = np.sqrt((df.tsne_features_xs - (-13.855849)) ** 2 + (df.tsne_features_ys - (-2.757724)) ** 2)\n",
    "df['c1'] = np.sqrt((df.tsne_features_xs - (30.886284)) ** 2 + (df.tsne_features_ys - (-12.211306)) ** 2)\n",
    "df['c2'] = np.sqrt((df.tsne_features_xs - (-6.2821727)) ** 2 + (df.tsne_features_ys - (22.937733)) ** 2)\n",
    "df['c3'] = np.sqrt((df.tsne_features_xs - (11.552219)) ** 2 + (df.tsne_features_ys - (6.9363875)) ** 2)\n",
    "df['c4'] = np.sqrt((df.tsne_features_xs - (0.77422804)) ** 2 + (df.tsne_features_ys - (-25.492647)) ** 2)\n",
    "df['c5'] = np.sqrt((df.tsne_features_xs - (-31.335146)) ** 2 + (df.tsne_features_ys - (15.596095)) ** 2)\n",
    "\n",
    "df.head(5)"
   ]
  },
  {
   "cell_type": "code",
   "execution_count": null,
   "id": "4f2c71ea",
   "metadata": {},
   "outputs": [],
   "source": [
    "df0 = df.sort_values(by=['c0'])\n",
    "df0.head(5)"
   ]
  },
  {
   "cell_type": "code",
   "execution_count": null,
   "id": "6cfee440",
   "metadata": {},
   "outputs": [],
   "source": [
    "df1 = df.sort_values(by=['c1'])\n",
    "df1.head(6)"
   ]
  },
  {
   "cell_type": "code",
   "execution_count": null,
   "id": "50d61bbf",
   "metadata": {},
   "outputs": [],
   "source": [
    "df2 = df.sort_values(by=['c2'])\n",
    "df2.head(5)"
   ]
  },
  {
   "cell_type": "code",
   "execution_count": null,
   "id": "d5f947f5",
   "metadata": {},
   "outputs": [],
   "source": [
    "df3 = df.sort_values(by=['c3'])\n",
    "df3.head(10)"
   ]
  },
  {
   "cell_type": "code",
   "execution_count": null,
   "id": "d9cb1675",
   "metadata": {},
   "outputs": [],
   "source": [
    "df4 = df.sort_values(by=['c4'])\n",
    "df4.head(5)"
   ]
  },
  {
   "cell_type": "code",
   "execution_count": null,
   "id": "d80cad5c",
   "metadata": {},
   "outputs": [],
   "source": [
    "df5 = df.sort_values(by=['c5'])\n",
    "df5.head(5)"
   ]
  },
  {
   "cell_type": "code",
   "execution_count": null,
   "id": "f4e3ee07",
   "metadata": {},
   "outputs": [],
   "source": [
    "df5_icd_devices = df.sort_values(by=['tsne_features_ys'])\n",
    "df5_icd_devices.head(10)"
   ]
  },
  {
   "cell_type": "code",
   "execution_count": null,
   "id": "6fb08c0c",
   "metadata": {},
   "outputs": [],
   "source": []
  },
  {
   "cell_type": "code",
   "execution_count": null,
   "id": "c2e8ba5d",
   "metadata": {},
   "outputs": [],
   "source": []
  },
  {
   "cell_type": "code",
   "execution_count": null,
   "id": "4999d74a",
   "metadata": {},
   "outputs": [],
   "source": [
    "hosp_mort = pd.read_csv('Downloads/hosp_mort.csv')\n",
    "icu_los = pd.read_csv('Downloads/icu_los.csv')\n",
    "final_adult_patients = pd.read_csv('Downloads/final_adult_patients.csv')\n",
    "hosp_mort = hosp_mort.drop(['Unnamed: 0'], \n",
    "               axis=1)\n",
    "hosp_mort.head(5)"
   ]
  },
  {
   "cell_type": "code",
   "execution_count": null,
   "id": "03173948",
   "metadata": {},
   "outputs": [],
   "source": [
    "final_adult_patients.columns.values"
   ]
  },
  {
   "cell_type": "code",
   "execution_count": null,
   "id": "78152d82",
   "metadata": {},
   "outputs": [],
   "source": [
    "final_adult_patients = final_adult_patients.drop(['Unnamed: 0.1', 'Unnamed: 0','anchor_year', 'anchor_age'], \n",
    "               axis=1)\n",
    "final_adult_patients = final_adult_patients.where(final_adult_patients['hadm_id_x'] == final_adult_patients['hadm_id_y'])\n",
    "final_adult_patients = final_adult_patients[final_adult_patients['dicom'].notna()]"
   ]
  },
  {
   "cell_type": "code",
   "execution_count": null,
   "id": "3731b7aa",
   "metadata": {},
   "outputs": [],
   "source": [
    "print(len(final_adult_patients['dicom']))"
   ]
  },
  {
   "cell_type": "code",
   "execution_count": null,
   "id": "87a4a3cf",
   "metadata": {},
   "outputs": [],
   "source": [
    "tro = pd.DataFrame({'subject_id': final_adult_patients['subject_id'],\n",
    "                   'hadm_id': final_adult_patients['hadm_id_x'],\n",
    "                   'dicom': final_adult_patients['dicom'], 'pO2_time':final_adult_patients['charttime_pO2'],\n",
    "                    'admittime':final_adult_patients['admittime'], 'Xray_date':final_adult_patients['StudyDate'], \n",
    "                   'Xray_time': final_adult_patients['StudyTime'], 'pO2_date':final_adult_patients['pO2_date'],\n",
    "                    'PF_ratio':final_adult_patients['PF_ratio'], 'charttime_pO2':final_adult_patients['charttime_pO2'] })\n",
    "troy = tro.merge(hosp_mort, on='hadm_id', how = 'inner')\n",
    "troy.head(10)"
   ]
  },
  {
   "cell_type": "code",
   "execution_count": null,
   "id": "e06a5f21",
   "metadata": {},
   "outputs": [],
   "source": [
    "print(len(troy['dicom']))"
   ]
  },
  {
   "cell_type": "code",
   "execution_count": null,
   "id": "71b981fa",
   "metadata": {},
   "outputs": [],
   "source": [
    "troys = troy.merge(kmeans_labels450, on= \"dicom\", how='inner')\n",
    "print(len(troys['dicom']))\n",
    "troys = troys.drop(['image/id'], axis=1)\n",
    "troys.head(100)"
   ]
  },
  {
   "cell_type": "code",
   "execution_count": null,
   "id": "c548a75c",
   "metadata": {},
   "outputs": [],
   "source": [
    "print(len(troys['dicom']))\n",
    "print(troys['dicom'].nunique())"
   ]
  },
  {
   "cell_type": "code",
   "execution_count": null,
   "id": "c80b7823",
   "metadata": {},
   "outputs": [],
   "source": [
    "# duplicate = troys[troys.duplicated('dicom')]\n",
    "# duplicate.head(20)"
   ]
  },
  {
   "cell_type": "code",
   "execution_count": null,
   "id": "cb507082",
   "metadata": {},
   "outputs": [],
   "source": [
    "troys = troys.drop_duplicates(subset='dicom', ignore_index=True)"
   ]
  },
  {
   "cell_type": "code",
   "execution_count": null,
   "id": "e34ed15c",
   "metadata": {},
   "outputs": [],
   "source": [
    "print(len(troys['dicom']))\n",
    "print(troys['dicom'].nunique())"
   ]
  },
  {
   "cell_type": "code",
   "execution_count": null,
   "id": "eb977cb1",
   "metadata": {},
   "outputs": [],
   "source": [
    "troys.head(100)"
   ]
  },
  {
   "cell_type": "code",
   "execution_count": null,
   "id": "34a228a4",
   "metadata": {},
   "outputs": [],
   "source": [
    "print(troys['subject_id_x'].nunique())\n",
    "print(troys['hadm_id'].nunique())\n",
    "print(troys['dicom'].nunique())"
   ]
  },
  {
   "cell_type": "code",
   "execution_count": null,
   "id": "084ca921",
   "metadata": {},
   "outputs": [],
   "source": [
    "base_table = troys.copy()\n",
    "base_table = base_table.drop(['subject_id_y', 'hospital_expire_flag'], axis=1)\n",
    "base_table.columns.values"
   ]
  },
  {
   "cell_type": "code",
   "execution_count": null,
   "id": "e702dc27",
   "metadata": {},
   "outputs": [],
   "source": [
    "print(type(base_table))"
   ]
  },
  {
   "cell_type": "code",
   "execution_count": null,
   "id": "f4278aa7",
   "metadata": {},
   "outputs": [],
   "source": [
    "base_table = base_table.reindex(columns=['subject_id_x', 'hadm_id', 'dicom', 'PF_ratio','charttime_pO2', 'pO2_time', 'pO2_date', 'Xray_date',\n",
    "                         'Xray_time', 'admittime', 'label', 'tsne_features_xs', 'tsne_features_ys', 'tsne_features'])\n",
    "base_table.head(5)"
   ]
  },
  {
   "cell_type": "code",
   "execution_count": null,
   "id": "0011fd0e",
   "metadata": {},
   "outputs": [],
   "source": [
    "print(base_table['hadm_id'].nunique())\n",
    "print(len(icu_los))"
   ]
  },
  {
   "cell_type": "code",
   "execution_count": null,
   "id": "6606d1fe",
   "metadata": {},
   "outputs": [],
   "source": []
  },
  {
   "cell_type": "code",
   "execution_count": null,
   "id": "81bf85d8",
   "metadata": {},
   "outputs": [],
   "source": [
    "# base_table.to_pickle('Downloads/base_table.pkl')"
   ]
  },
  {
   "cell_type": "code",
   "execution_count": null,
   "id": "9ce9a174",
   "metadata": {},
   "outputs": [],
   "source": [
    "ct = pd.crosstab(troys['label'], troys['hospital_expire_flag'], normalize= 'index')\n",
    "ct.head(6)"
   ]
  },
  {
   "cell_type": "code",
   "execution_count": null,
   "id": "052191e9",
   "metadata": {},
   "outputs": [],
   "source": [
    "import pandas as pd\n",
    "from scipy.stats import chi2_contingency\n",
    "\n",
    "# Create a contingency table of the counts of outcomes by cluster\n",
    "contingency_table = pd.crosstab(troys['label'], troys['hospital_expire_flag'])\n",
    "\n",
    "# Perform the chi-square test of independence\n",
    "chi2, p, dof, expected = chi2_contingency(contingency_table)\n",
    "\n",
    "print(f\"Chi-square test statistic: {chi2:.3f}\")\n",
    "print(f\"P-value: {p}\")"
   ]
  },
  {
   "cell_type": "code",
   "execution_count": null,
   "id": "46f5adba",
   "metadata": {},
   "outputs": [],
   "source": [
    "import pandas as pd\n",
    "import numpy as np\n",
    "from scipy.stats import chi2_contingency\n",
    "from statsmodels.stats.multitest import multipletests\n",
    "\n",
    "# assume df is your pandas dataframe with two columns: 'cluster_labels' and 'outcomes'\n",
    "cont_table = pd.crosstab(troys['label'], troys['hospital_expire_flag'])\n",
    "\n",
    "# Method 1: Bonferroni correction\n",
    "alpha = 0.05\n",
    "n_comparisons = len(cont_table)*(len(cont_table)-1)/2\n",
    "alpha_adj = alpha/n_comparisons\n",
    "reject = []\n",
    "for i in range(len(cont_table)-1):\n",
    "    for j in range(i+1, len(cont_table)):\n",
    "        obs = np.array([cont_table.iloc[i,:], cont_table.iloc[j,:]])\n",
    "        chi2, p, dof, exp = chi2_contingency(obs)\n",
    "        reject.append(p < alpha_adj)\n",
    "        \n",
    "# Method 2: Pairwise chi-squared test\n",
    "pvals = []\n",
    "reject_pw = []\n",
    "for i in range(len(cont_table)-1):\n",
    "    for j in range(i+1, len(cont_table)):\n",
    "        obs = np.array([cont_table.iloc[i,:], cont_table.iloc[j,:]])\n",
    "        chi2, p, dof, exp = chi2_contingency(obs)\n",
    "        pvals.append(p)\n",
    "        reject_pw.append(p < alpha)\n",
    "\n",
    "# Apply multiple comparisons correction to Method 2\n",
    "reject_pw_corr = multipletests(pvals, alpha=alpha, method='bonferroni')[0]\n",
    "\n",
    "# Print results\n",
    "print(\"Method 1: Bonferroni correction\")\n",
    "print(f\"Adjusted significance level: {alpha_adj}\")\n",
    "print(f\"Reject null hypothesis for {sum(reject)} pairwise comparisons\")\n",
    "print(reject)\n",
    "\n",
    "print(\"\\nMethod 2: Pairwise chi-squared test\")\n",
    "for i in range(len(cont_table)-1):\n",
    "    for j in range(i+1, len(cont_table)):\n",
    "        print(f\"Comparison {i+1}-{j+1}: p={pvals[i*(len(cont_table)-i-1)//2+j-i-1]}, reject={reject_pw_corr[i*(len(cont_table)-i-1)//2+j-i-1]}\")\n",
    "print(reject_pw_corr)"
   ]
  },
  {
   "cell_type": "code",
   "execution_count": null,
   "id": "dd54fb6c",
   "metadata": {},
   "outputs": [],
   "source": [
    "import pandas as pd\n",
    "import numpy as np\n",
    "from scipy.stats import chi2_contingency\n",
    "import statsmodels.stats.multicomp as mc\n",
    "\n",
    "\n",
    "\n",
    "# compute the contingency table\n",
    "ct = pd.crosstab(troys['label'], troys['hospital_expire_flag'])\n",
    "\n",
    "# perform the chi-squared test\n",
    "chi2, p, dof, expected = chi2_contingency(ct)\n",
    "\n",
    "# print the chi-squared test results\n",
    "print(\"Chi-Squared Test Results:\")\n",
    "print(f\"Chi-Squared Statistic: {chi2:.3f}\")\n",
    "print(f\"Degrees of Freedom: {dof}\")\n",
    "print(f\"P-value: {p:.3f}\")\n",
    "\n",
    "# perform the Tukey HSD test with Bonferroni correction\n",
    "group_names = ['group1', 'group2', 'group3', 'group4', 'group5', 'group6']\n",
    "tukey_result = mc.pairwise_tukeyhsd(troys['label'], troys['hospital_expire_flag'])\n",
    "tukey_summary = tukey_result.summary()\n",
    "print(\"\\nTukey HSD Test Results (Bonferroni Corrected):\")\n",
    "print(tukey_summary)\n"
   ]
  },
  {
   "cell_type": "code",
   "execution_count": null,
   "id": "077e5ae5",
   "metadata": {},
   "outputs": [],
   "source": [
    "import pandas as pd\n",
    "from scipy.stats import chi2_contingency\n",
    "from statsmodels.stats.multicomp import pairwise_tukeyhsd\n",
    "\n",
    "# Create a contingency table of observed frequencies\n",
    "cont_table = pd.crosstab(troys['label'], troys['hospital_expire_flag'])\n",
    "\n",
    "# Run the chi-squared test\n",
    "chi2, p, dof, expected = chi2_contingency(cont_table)\n",
    "\n",
    "# Print the results of the chi-squared test\n",
    "print(\"Chi-squared test results:\")\n",
    "print(f\"  Test statistic: {chi2:.4f}\")\n",
    "print(f\"  Degrees of freedom: {dof}\")\n",
    "print(f\"  p-value: {p:.4f}\")\n",
    "\n",
    "# Run the Tukey HSD test\n",
    "tukey_results = pairwise_tukeyhsd(troys['label'], troys['hospital_expire_flag'])\n",
    "\n",
    "# Print the pairwise comparisons with significant differences\n",
    "group_names = cont_table.index\n",
    "tukey_table = pd.DataFrame(data=tukey_results._results_table.data[1:], columns=tukey_results._results_table.data[0])\n",
    "tukey_table = tukey_table[['group1', 'group2', 'reject', 'p-adj']]\n",
    "tukey_table = tukey_table[tukey_table['reject']]\n",
    "tukey_table['group1'] = tukey_table['group1'].astype(int).apply(lambda x: group_names[x])\n",
    "tukey_table['group2'] = tukey_table['group2'].astype(int).apply(lambda x: group_names[x])\n",
    "print(\"Pairwise comparison results:\")\n",
    "print(tukey_table)\n"
   ]
  },
  {
   "cell_type": "code",
   "execution_count": null,
   "id": "ad3fcb6b",
   "metadata": {},
   "outputs": [],
   "source": [
    "print(group_names)"
   ]
  },
  {
   "cell_type": "code",
   "execution_count": null,
   "id": "bdc90375",
   "metadata": {},
   "outputs": [],
   "source": [
    "from scipy import stats\n",
    "\n",
    "x =[ 169.315183, 172.734661, 182.768118, 173.674676, 173.418298, 170.526781]\n",
    "stats.shapiro(x)"
   ]
  },
  {
   "cell_type": "code",
   "execution_count": null,
   "id": "25c7181e",
   "metadata": {},
   "outputs": [],
   "source": [
    "from scipy.stats import f_oneway\n",
    "c1 = np.array([169.315183])\n",
    "c2 = np.array([172.734661])\n",
    "c3 = np.array([182.768118])\n",
    "c4 = np.array([173.674676])\n",
    "c5 = np.array([173.418298])\n",
    "c6 = np.array([170.526781])\n",
    "\n",
    "stats.f_oneway(c1,c2,c3,c4,c5,c6)"
   ]
  },
  {
   "cell_type": "code",
   "execution_count": null,
   "id": "fbf50a4f",
   "metadata": {},
   "outputs": [],
   "source": [
    "from scipy.stats import chisquare\n",
    "chisquare([0.169315183, 0.172734661, 0.182768118, 0.173674676, 0.173418298, 0.170526781])"
   ]
  },
  {
   "cell_type": "code",
   "execution_count": null,
   "id": "4c90042f",
   "metadata": {},
   "outputs": [],
   "source": [
    "# ml = hosp_mort.merge(icu_los, how='inner', on='hadm_id')\n",
    "# ml = ml.reset_index()\n",
    "# ml.head(5)"
   ]
  },
  {
   "cell_type": "code",
   "execution_count": null,
   "id": "2277ac08",
   "metadata": {},
   "outputs": [],
   "source": []
  },
  {
   "cell_type": "code",
   "execution_count": null,
   "id": "d25868d9",
   "metadata": {},
   "outputs": [],
   "source": [
    "triy = pd.DataFrame({'subject_id': final_adult_patients['subject_id'],\n",
    "                   'hadm_id': final_adult_patients['hadm_id_x'],\n",
    "                   'dicom': final_adult_patients['dicom'],\n",
    "                   'PF_ratio': final_adult_patients['PF_ratio']})"
   ]
  },
  {
   "cell_type": "code",
   "execution_count": null,
   "id": "55539817",
   "metadata": {},
   "outputs": [],
   "source": [
    "triys = triy.merge(kmeans_labels450, on= \"dicom\", how='inner')\n",
    "print(len(triys['dicom']))\n",
    "triys = triys.drop(['image/id'], axis=1)"
   ]
  },
  {
   "cell_type": "code",
   "execution_count": null,
   "id": "d33e5b2a",
   "metadata": {},
   "outputs": [],
   "source": [
    "triys = triys.drop_duplicates(subset='dicom', ignore_index=True)"
   ]
  },
  {
   "cell_type": "code",
   "execution_count": null,
   "id": "03cb80e7",
   "metadata": {},
   "outputs": [],
   "source": [
    "print(len(triys['dicom']))\n",
    "print(triys['dicom'].nunique())"
   ]
  },
  {
   "cell_type": "code",
   "execution_count": null,
   "id": "3d7d5e45",
   "metadata": {},
   "outputs": [],
   "source": [
    "mean = triys['PF_ratio'].groupby(triys['label']).mean()"
   ]
  },
  {
   "cell_type": "code",
   "execution_count": null,
   "id": "f8bc3cb3",
   "metadata": {},
   "outputs": [],
   "source": [
    "mean.head(6)"
   ]
  },
  {
   "cell_type": "code",
   "execution_count": null,
   "id": "38281793",
   "metadata": {},
   "outputs": [],
   "source": [
    "stats.kstest(triys['PF_ratio'], 'norm')"
   ]
  },
  {
   "cell_type": "code",
   "execution_count": null,
   "id": "5a97f937",
   "metadata": {},
   "outputs": [],
   "source": [
    "triys.columns.values"
   ]
  },
  {
   "cell_type": "code",
   "execution_count": null,
   "id": "f834fe81",
   "metadata": {},
   "outputs": [],
   "source": [
    "PFc0 = triys['PF_ratio'].where(triys['label'] == 0)\n",
    "PFc0 = PFc0.dropna()\n",
    "\n",
    "PFc1 = triys['PF_ratio'].where(triys['label'] == 1)\n",
    "PFc1 = PFc1.dropna()\n",
    "\n",
    "PFc2 = triys['PF_ratio'].where(triys['label'] == 2)\n",
    "PFc2 = PFc2.dropna()\n",
    "\n",
    "PFc3 = triys['PF_ratio'].where(triys['label'] == 3)\n",
    "PFc3 = PFc3.dropna()\n",
    "\n",
    "PFc4 = triys['PF_ratio'].where(triys['label'] == 4)\n",
    "PFc4 = PFc4.dropna()\n",
    "\n",
    "PFc5 = triys['PF_ratio'].where(triys['label'] == 5)\n",
    "PFc5 = PFc5.dropna()"
   ]
  },
  {
   "cell_type": "code",
   "execution_count": null,
   "id": "37ccfe78",
   "metadata": {},
   "outputs": [],
   "source": [
    "stats.f_oneway(PFc0, PFc1, PFc2, PFc3, PFc4, PFc5)"
   ]
  },
  {
   "cell_type": "code",
   "execution_count": null,
   "id": "86f3b8cc",
   "metadata": {},
   "outputs": [],
   "source": [
    "from scipy.stats import f_oneway\n",
    "from statsmodels.formula.api import ols\n",
    "from statsmodels.stats.anova import anova_lm\n",
    "from statsmodels.stats.multicomp import MultiComparison\n",
    "from statsmodels.graphics.gofplots import qqplot\n",
    "import warnings\n",
    "from IPython.display import display, Math, Latex, Markdown\n",
    "\n",
    "comparison = MultiComparison(triys['PF_ratio'], triys['label'])\n",
    "comparison_results = comparison.tukeyhsd()\n",
    "comparison_results.summary()"
   ]
  },
  {
   "cell_type": "code",
   "execution_count": null,
   "id": "a66bcaa1",
   "metadata": {},
   "outputs": [],
   "source": [
    "tra = pd.DataFrame({'subject_id': final_adult_patients['subject_id'],\n",
    "                   'hadm_id': final_adult_patients['hadm_id_x'],\n",
    "                   'dicom': final_adult_patients['dicom']})\n",
    "tray = tro.merge(icu_los, on='hadm_id', how = 'inner')"
   ]
  },
  {
   "cell_type": "code",
   "execution_count": null,
   "id": "d2fc8045",
   "metadata": {},
   "outputs": [],
   "source": [
    "trays = tray.merge(kmeans_labels450, on= \"dicom\", how='inner')\n",
    "print(len(trays['dicom']))\n",
    "trays = trays.drop(['image/id'], axis=1)"
   ]
  },
  {
   "cell_type": "code",
   "execution_count": null,
   "id": "eec445d0",
   "metadata": {},
   "outputs": [],
   "source": [
    "trays = trays.drop_duplicates(subset='dicom', ignore_index=True)"
   ]
  },
  {
   "cell_type": "code",
   "execution_count": null,
   "id": "fdc4095b",
   "metadata": {},
   "outputs": [],
   "source": [
    "print(len(trays['dicom']))\n",
    "print(trays['dicom'].nunique())"
   ]
  },
  {
   "cell_type": "code",
   "execution_count": null,
   "id": "9c87beea",
   "metadata": {},
   "outputs": [],
   "source": [
    "mean2 = trays['los'].groupby(trays['label']).mean()\n",
    "mean2.head(6)"
   ]
  },
  {
   "cell_type": "code",
   "execution_count": null,
   "id": "5137b9a5",
   "metadata": {},
   "outputs": [],
   "source": [
    "stats.kstest(trays['los'], 'norm')"
   ]
  },
  {
   "cell_type": "code",
   "execution_count": null,
   "id": "14aa5ba2",
   "metadata": {},
   "outputs": [],
   "source": [
    "LOSc0 = trays['los'].where(trays['label'] == 0)\n",
    "LOSc0 = LOSc0.dropna()\n",
    "\n",
    "LOSc1 = trays['los'].where(trays['label'] == 1)\n",
    "LOSc1 = LOSc1.dropna()\n",
    "\n",
    "LOSc2 = trays['los'].where(trays['label'] == 2)\n",
    "LOSc2 = LOSc2.dropna()\n",
    "\n",
    "LOSc3 = trays['los'].where(trays['label'] == 3)\n",
    "LOSc3 = LOSc3.dropna()\n",
    "\n",
    "LOSc4 = trays['los'].where(trays['label'] == 4)\n",
    "LOSc4 = LOSc4.dropna()\n",
    "\n",
    "LOSc5 = trays['los'].where(trays['label'] == 5)\n",
    "LOSc5 = LOSc5.dropna()"
   ]
  },
  {
   "cell_type": "code",
   "execution_count": null,
   "id": "7d47dc03",
   "metadata": {},
   "outputs": [],
   "source": [
    "stats.kruskal(LOSc0, LOSc1, LOSc2, LOSc3, LOSc4, LOSc5)"
   ]
  },
  {
   "cell_type": "code",
   "execution_count": null,
   "id": "980f21d0",
   "metadata": {},
   "outputs": [],
   "source": [
    "comparison = MultiComparison(trays['los'], trays['label'])\n",
    "comparison_results = comparison.tukeyhsd()\n",
    "comparison_results.summary()"
   ]
  },
  {
   "cell_type": "code",
   "execution_count": null,
   "id": "3ef7b76e",
   "metadata": {},
   "outputs": [],
   "source": []
  }
 ],
 "metadata": {
  "kernelspec": {
   "display_name": "Python 3 (ipykernel)",
   "language": "python",
   "name": "python3"
  },
  "language_info": {
   "codemirror_mode": {
    "name": "ipython",
    "version": 3
   },
   "file_extension": ".py",
   "mimetype": "text/x-python",
   "name": "python",
   "nbconvert_exporter": "python",
   "pygments_lexer": "ipython3",
   "version": "3.9.13"
  }
 },
 "nbformat": 4,
 "nbformat_minor": 5
}
