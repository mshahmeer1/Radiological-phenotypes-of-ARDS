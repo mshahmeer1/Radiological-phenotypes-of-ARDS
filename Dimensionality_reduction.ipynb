{
  "nbformat": 4,
  "nbformat_minor": 0,
  "metadata": {
    "colab": {
      "provenance": [],
      "authorship_tag": "ABX9TyPEJx+ut6QYbj5ix8umWSci",
      "include_colab_link": true
    },
    "kernelspec": {
      "name": "python3",
      "display_name": "Python 3"
    },
    "language_info": {
      "name": "python"
    }
  },
  "cells": [
    {
      "cell_type": "markdown",
      "metadata": {
        "id": "view-in-github",
        "colab_type": "text"
      },
      "source": [
        "<a href=\"https://colab.research.google.com/github/mshahmeer1/Radiological-phenotypes-of-ARDS/blob/main/Dimensionality_reduction.ipynb\" target=\"_parent\"><img src=\"https://colab.research.google.com/assets/colab-badge.svg\" alt=\"Open In Colab\"/></a>"
      ]
    },
    {
      "cell_type": "code",
      "execution_count": null,
      "metadata": {
        "id": "4HIpiDCVp1Gf"
      },
      "outputs": [],
      "source": [
        "import numpy as np\n",
        "import pandas as pd\n",
        "import matplotlib.pyplot as plt\n",
        "import pprint\n",
        "import os\n",
        "from sklearn.decomposition import PCA\n",
        "from sklearn.mixture import GaussianMixture\n",
        "from sklearn import metrics\n",
        "\n",
        "pd.set_option('display.max_colwidth',100000) #https://stackoverflow.com/questions/54692405/output-truncation-in-google-colab\n",
        "\n",
        "# Below imports are used to print out pretty pandas dataframes\n",
        "from IPython.display import display, HTML"
      ]
    },
    {
      "cell_type": "code",
      "source": [
        "embeddings = pd.read_pickle('embeddings.pkl')\n",
        "embeddings = embeddings.drop(['image/format'], \n",
        "               axis=1)\n",
        "\n",
        "print(len(embeddings['embedding']))\n",
        "print(type(embeddings['embedding']))\n",
        "print(type(embeddings['embedding'].iloc[2]))\n",
        "print(embeddings['embedding'].iloc[2].size)\n",
        "print(embeddings['Len'].nunique())\n",
        "\n",
        "embeddings['dicom']= embeddings['image/id'].str[61:-4]"
      ],
      "metadata": {
        "id": "Ey7zUc9Dp4xt"
      },
      "execution_count": null,
      "outputs": []
    },
    {
      "cell_type": "code",
      "source": [
        "array = embeddings['embedding'].tolist()\n",
        "array_of_arrays= np.stack(array , axis=0)"
      ],
      "metadata": {
        "id": "j1RsA0o_p7RB"
      },
      "execution_count": null,
      "outputs": []
    },
    {
      "cell_type": "code",
      "source": [
        "# Import PCA\n",
        "from sklearn.decomposition import PCA\n",
        "\n",
        "# Create a PCA model with 2 components: pca\n",
        "pca = PCA(n_components=62)\n",
        "\n",
        "# Fit the PCA instance to the scaled samples\n",
        "pca.fit(array_of_arrays)\n",
        "\n",
        "# Transform the scaled samples: pca_features\n",
        "pca_features = pca.transform(array_of_arrays)"
      ],
      "metadata": {
        "id": "QgNizPW-p9GU"
      },
      "execution_count": null,
      "outputs": []
    },
    {
      "cell_type": "code",
      "source": [
        "from sklearn.manifold import TSNE\n",
        "from sklearn.cluster import KMeans"
      ],
      "metadata": {
        "id": "bupw8N5pqA_E"
      },
      "execution_count": null,
      "outputs": []
    },
    {
      "cell_type": "code",
      "source": [
        "from sklearn.manifold import TSNE\n",
        "from sklearn.cluster import KMeans\n",
        "from sklearn import metrics\n",
        "\n",
        "silhouette_score_threshold = 0.45\n",
        "current_score = 0\n",
        "\n",
        "while current_score < silhouette_score_threshold:\n",
        "    # Create a TSNE instance\n",
        "    model = TSNE(learning_rate=250, perplexity=120)\n",
        "\n",
        "    # Apply fit_transform to samples\n",
        "    tsne_features = model.fit_transform(pca_features)\n",
        "\n",
        "    # Apply KMeans clustering\n",
        "    kmeans_model = KMeans(n_clusters=6)\n",
        "    kmeans_model.fit(tsne_features)\n",
        "    labels = kmeans_model.predict(tsne_features)\n",
        "\n",
        "    # Calculate silhouette score\n",
        "    current_score = metrics.silhouette_score(tsne_features, labels)\n",
        "\n",
        "    # Print current score\n",
        "    print(f\"Current silhouette score: {current_score:.3f}\")\n",
        "\n",
        "# When threshold is met, print the silhouette score and assign the cluster labels to a variable\n",
        "print(f\"Silhouette Coefficient: {metrics.silhouette_score(tsne_features, labels):.3f}\")\n",
        "kmeans_labels_c6 = labels\n",
        "centroid = kmeans_model.cluster_centers_"
      ],
      "metadata": {
        "id": "As6NdbxutnWO"
      },
      "execution_count": null,
      "outputs": []
    },
    {
      "cell_type": "code",
      "source": [
        "  # Select the 0th feature: xs\n",
        "xs = tsne_features[:,0]\n",
        "\n",
        "# Select the 1st feature: ys\n",
        "ys = tsne_features[:,1]"
      ],
      "metadata": {
        "id": "IknTU4BcvezR"
      },
      "execution_count": null,
      "outputs": []
    },
    {
      "cell_type": "code",
      "source": [
        "\n",
        "kmeans_labels = pd.DataFrame({'image/id': embeddings['image/id'], 'label':kmeans_labels_c6, 'dicom': embeddings['dicom'], 'tsne_features_xs':xs, 'tsne_features_ys':ys})\n",
        "\n",
        "kmeans_labels.to_pickle('kmeans_labels450')"
      ],
      "metadata": {
        "id": "WJhwBrpDvRjn"
      },
      "execution_count": null,
      "outputs": []
    },
    {
      "cell_type": "code",
      "source": [
        "from google.colab import files\n",
        "files.download('kmeans_labels450')"
      ],
      "metadata": {
        "id": "ZR72ebIIwF61"
      },
      "execution_count": null,
      "outputs": []
    },
    {
      "cell_type": "code",
      "source": [
        "print(centroid)"
      ],
      "metadata": {
        "id": "LymcNv7Q9dnN"
      },
      "execution_count": null,
      "outputs": []
    },
    {
      "cell_type": "code",
      "source": [
        "xs = tsne_features[:,0]\n",
        "\n",
        "ys = tsne_features[:,1]\n",
        "\n",
        "plt.scatter(xs,ys, marker ='.', alpha = 0.5, s=10, c=labels)\n",
        "# plt.savefig('Downloads/kmeans_on_tsne_features_0.450', format='png', dpi=1200)\n",
        "plt.show()"
      ],
      "metadata": {
        "id": "DDhV06Nw-Jwo"
      },
      "execution_count": null,
      "outputs": []
    },
    {
      "cell_type": "code",
      "source": [
        "y = 0\n",
        "\n",
        "def cluster(x):\n",
        "    while x<0.450:\n",
        "        model = TSNE(learning_rate=250, perplexity=120)\n",
        "\n",
        "        # Apply fit_transform to samples: tsne_features\n",
        "        tsne_features = model.fit_transform(pca_features)\n",
        "\n",
        "        # Select the 0th feature: xs\n",
        "        xs = tsne_features[:,0]\n",
        "\n",
        "        # Select the 1st feature: ys\n",
        "        ys = tsne_features[:,1]\n",
        "\n",
        "        model = KMeans(n_clusters=6)\n",
        "        model.fit(tsne_features)\n",
        "        label = model.predict(tsne_features)\n",
        "\n",
        "        x = metrics.silhouette_score(tsne_features, label)\n",
        "    \n",
        "    else:\n",
        "        print(f\"Silhouette Coefficient: {metrics.silhouette_score(tsne_features, label):.3f}\")\n",
        "        kmeans_labels_c6 = label\n",
        "cluster(y)"
      ],
      "metadata": {
        "id": "td6E2k0sqJSk"
      },
      "execution_count": null,
      "outputs": []
    }
  ]
}