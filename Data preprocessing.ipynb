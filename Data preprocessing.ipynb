{
 "cells": [
  {
   "cell_type": "code",
   "execution_count": null,
   "id": "67a90de6",
   "metadata": {},
   "outputs": [],
   "source": [
    "import numpy as np\n",
    "import pandas as pd\n",
    "import matplotlib.pyplot as plt\n",
    "import pprint\n",
    "import os\n",
    "\n",
    "pd.set_option('display.max_colwidth',100000) #https://stackoverflow.com/questions/54692405/output-truncation-in-google-colab\n",
    "\n",
    "# Below imports are used to print out pretty pandas dataframes\n",
    "from IPython.display import display, HTML\n",
    "\n"
   ]
  },
  {
   "cell_type": "code",
   "execution_count": null,
   "id": "35556ba4",
   "metadata": {},
   "outputs": [],
   "source": [
    "from datetime import datetime\n",
    "def convert_time(x):\n",
    "  date_time_str = x\n",
    "  if date_time_str[-1] == ':':\n",
    "    date_time_str += '00'\n",
    "  date_time_obj = datetime.strptime(date_time_str, '%Y-%m-%d %H:%M:%S')\n",
    "  return date_time_obj"
   ]
  },
  {
   "cell_type": "code",
   "execution_count": null,
   "id": "20aa8d16",
   "metadata": {},
   "outputs": [],
   "source": [
    "MV = pd.read_csv('Downloads/derived_MV.csv')\n",
    "MV.head(5)"
   ]
  },
  {
   "cell_type": "code",
   "execution_count": null,
   "id": "8e5d07ff",
   "metadata": {},
   "outputs": [],
   "source": [
    "print(MV['stay_id'].nunique())"
   ]
  },
  {
   "cell_type": "code",
   "execution_count": null,
   "id": "443d49af",
   "metadata": {},
   "outputs": [],
   "source": [
    "pO2 = pd.read_csv('Downloads/derived_pO2.csv')\n",
    "pO2.charttime = pO2.charttime.apply(convert_time)\n",
    "pO2.head(5)"
   ]
  },
  {
   "cell_type": "code",
   "execution_count": null,
   "id": "a654c89d",
   "metadata": {},
   "outputs": [],
   "source": [
    "print(pO2['subject_id'].nunique())"
   ]
  },
  {
   "cell_type": "code",
   "execution_count": null,
   "id": "83579ebb",
   "metadata": {},
   "outputs": [],
   "source": [
    "fiO2 = pd.read_csv('Downloads/derived_fiO2.csv')\n",
    "fiO2.charttime = fiO2.charttime.apply(convert_time)\n",
    "fiO2.head(5)"
   ]
  },
  {
   "cell_type": "code",
   "execution_count": null,
   "id": "de33f6bb",
   "metadata": {},
   "outputs": [],
   "source": [
    "print(fiO2['subject_id'].nunique())"
   ]
  },
  {
   "cell_type": "code",
   "execution_count": null,
   "id": "9faa2e2d",
   "metadata": {},
   "outputs": [],
   "source": [
    "merged_tables = pO2.merge(fiO2,how='inner',on='subject_id', suffixes=('_pO2', '_fiO2'))\n",
    "merged_tables = merged_tables.drop(['Unnamed: 0_pO2', 'Unnamed: 0_fiO2', 'fio2_chartevents'], \n",
    "               axis=1)\n",
    "merged_tables.head(5)"
   ]
  },
  {
   "cell_type": "code",
   "execution_count": null,
   "id": "b8b23ab2",
   "metadata": {},
   "outputs": [],
   "source": [
    "merged_tables['time_diff'] = merged_tables.charttime_pO2 - merged_tables.charttime_fiO2\n",
    "merged_tables = merged_tables[merged_tables['time_diff'] > pd.Timedelta(0)]\n",
    "\n",
    "merged_tables['time_diff'] = merged_tables['time_diff'] / pd.Timedelta(minutes=1)\n",
    "merged_tables['min_time_diff'] = merged_tables.groupby('subject_id')['time_diff'].transform('min')\n",
    "\n",
    "PF_table = merged_tables.where(merged_tables['time_diff'] == merged_tables['min_time_diff'])\n",
    "\n",
    "PF_table['PF_ratio'] = PF_table.po2 / PF_table.converted_fiO2\n",
    "\n",
    "PF_table = PF_table[PF_table['PF_ratio'].notna()]\n",
    "\n",
    "PF_table.head(20)"
   ]
  },
  {
   "cell_type": "code",
   "execution_count": null,
   "id": "7c11a59e",
   "metadata": {},
   "outputs": [],
   "source": [
    "print(PF_table['subject_id'].nunique())"
   ]
  },
  {
   "cell_type": "code",
   "execution_count": null,
   "id": "8950b6db",
   "metadata": {},
   "outputs": [],
   "source": [
    "PF_ARDS = PF_table.where(PF_table['PF_ratio'] < 300)\n",
    "PF_ARDS = PF_ARDS[PF_ARDS['PF_ratio'].notna()]\n",
    "PF_ARDS.head(5)"
   ]
  },
  {
   "cell_type": "code",
   "execution_count": null,
   "id": "96b0ee78",
   "metadata": {},
   "outputs": [],
   "source": [
    "print(PF_ARDS['subject_id'].nunique())"
   ]
  },
  {
   "cell_type": "code",
   "execution_count": null,
   "id": "37ba3e72",
   "metadata": {},
   "outputs": [],
   "source": [
    "ARDS_patients = PF_ARDS.merge(MV, how='inner', on='subject_id', suffixes=(None, '_MV'))\n",
    "ARDS_patients = ARDS_patients.drop(['Unnamed: 0'], \n",
    "               axis=1)\n",
    "ARDS_patients.head(5)"
   ]
  },
  {
   "cell_type": "code",
   "execution_count": null,
   "id": "fdb3d8ea",
   "metadata": {},
   "outputs": [],
   "source": [
    "print(ARDS_patients['subject_id'].nunique())"
   ]
  },
  {
   "cell_type": "code",
   "execution_count": null,
   "id": "84459dd6",
   "metadata": {},
   "outputs": [],
   "source": [
    "mimic_cxr = pd.read_csv('Downloads/mimic_cxr.csv', low_memory=False)\n",
    "mimic_cxr = mimic_cxr.rename(columns={\"PatientID\": \"subject_id\"})"
   ]
  },
  {
   "cell_type": "code",
   "execution_count": null,
   "id": "2642b540",
   "metadata": {},
   "outputs": [],
   "source": [
    "ARDS_Xray = ARDS_patients.merge(mimic_cxr, how='inner', on='subject_id')\n",
    "pd.set_option('display.max_columns', None)\n",
    "ARDS_Xray.head(5)"
   ]
  },
  {
   "cell_type": "code",
   "execution_count": null,
   "id": "623c3f1d",
   "metadata": {},
   "outputs": [],
   "source": [
    "print(ARDS_Xray['subject_id'].nunique())\n",
    "print(ARDS_Xray['dicom'].nunique())"
   ]
  },
  {
   "cell_type": "code",
   "execution_count": null,
   "id": "acb922a0",
   "metadata": {},
   "outputs": [],
   "source": [
    "ARDS_Xray['pO2_date'] = ARDS_Xray['charttime_pO2'].dt.date\n",
    "ARDS_Xray['pO2_date'] = ARDS_Xray['pO2_date'].astype(str)\n",
    "ARDS_Xray['pO2_date'] = ARDS_Xray['pO2_date'].str.replace('-','')\n",
    "ARDS_Xray['pO2_date'] = ARDS_Xray['pO2_date'].astype(int)"
   ]
  },
  {
   "cell_type": "code",
   "execution_count": null,
   "id": "24108cdd",
   "metadata": {},
   "outputs": [],
   "source": [
    "ARDS_Xray['Xray_day_diff'] = ARDS_Xray['pO2_date'] - ARDS_Xray['StudyDate']\n",
    "ARDS_Xray['Xray_day_diff'] = ARDS_Xray['Xray_day_diff'].abs()\n",
    "final_Xrays = ARDS_Xray.where(ARDS_Xray['Xray_day_diff'] <= 1)\n",
    "\n",
    "final_Xrays = final_Xrays[final_Xrays['dicom'].notna()]\n",
    "final_Xrays = final_Xrays.drop(['Unnamed: 0'], \n",
    "               axis=1)\n",
    "\n",
    "final_Xrays.head(5)"
   ]
  },
  {
   "cell_type": "code",
   "execution_count": null,
   "id": "dd48d0f7",
   "metadata": {},
   "outputs": [],
   "source": [
    "print(final_Xrays['dicom'].nunique())\n",
    "print(final_Xrays['StudyID'].nunique())\n",
    "print(final_Xrays['subject_id'].nunique())"
   ]
  },
  {
   "cell_type": "code",
   "execution_count": null,
   "id": "2b5b7f3f",
   "metadata": {},
   "outputs": [],
   "source": [
    "age = pd.read_csv('Downloads/age.csv')\n",
    "final_patients = final_Xrays.merge(age, how='inner', on='subject_id')\n",
    "final_adult_patients = final_patients.where(final_patients['age'] >= 18)"
   ]
  },
  {
   "cell_type": "code",
   "execution_count": null,
   "id": "493f0052",
   "metadata": {},
   "outputs": [],
   "source": [
    "print(final_adult_patients['dicom'].nunique())\n",
    "print(final_adult_patients['StudyID'].nunique())\n",
    "print(final_adult_patients['subject_id'].nunique())"
   ]
  },
  {
   "cell_type": "code",
   "execution_count": null,
   "id": "fd48cc52",
   "metadata": {},
   "outputs": [],
   "source": [
    "final_dicom = final_adult_patients['dicom'].copy()\n",
    "final_dicom = final_dicom.drop_duplicates()"
   ]
  },
  {
   "cell_type": "code",
   "execution_count": null,
   "id": "c73c1a3c",
   "metadata": {},
   "outputs": [],
   "source": [
    "final_dicom.to_csv('Downloads/final_dicom.csv')"
   ]
  },
  {
   "cell_type": "code",
   "execution_count": null,
   "id": "084d41fc",
   "metadata": {},
   "outputs": [],
   "source": [
    "print(final_dicom.nunique)"
   ]
  },
  {
   "cell_type": "code",
   "execution_count": null,
   "id": "c8c6f654",
   "metadata": {},
   "outputs": [],
   "source": [
    "final_adult_patients.to_csv('Downloads/final_adult_patients.csv')"
   ]
  },
  {
   "cell_type": "code",
   "execution_count": null,
   "id": "f520c95a",
   "metadata": {},
   "outputs": [],
   "source": []
  },
  {
   "cell_type": "code",
   "execution_count": null,
   "id": "34f5efb4",
   "metadata": {},
   "outputs": [],
   "source": []
  },
  {
   "cell_type": "code",
   "execution_count": null,
   "id": "408547f5",
   "metadata": {},
   "outputs": [],
   "source": []
  },
  {
   "cell_type": "code",
   "execution_count": null,
   "id": "1fa6b5ac",
   "metadata": {},
   "outputs": [],
   "source": []
  }
 ],
 "metadata": {
  "kernelspec": {
   "display_name": "Python 3 (ipykernel)",
   "language": "python",
   "name": "python3"
  },
  "language_info": {
   "codemirror_mode": {
    "name": "ipython",
    "version": 3
   },
   "file_extension": ".py",
   "mimetype": "text/x-python",
   "name": "python",
   "nbconvert_exporter": "python",
   "pygments_lexer": "ipython3",
   "version": "3.9.13"
  }
 },
 "nbformat": 4,
 "nbformat_minor": 5
}
